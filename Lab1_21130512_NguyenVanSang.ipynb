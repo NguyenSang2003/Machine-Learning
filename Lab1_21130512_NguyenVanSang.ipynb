{
  "cells": [
    {
      "cell_type": "markdown",
      "metadata": {
        "id": "view-in-github",
        "colab_type": "text"
      },
      "source": [
        "<a href=\"https://colab.research.google.com/github/NguyenSang2003/Machine-Learning/blob/main/Lab1_21130512_NguyenVanSang.ipynb\" target=\"_parent\"><img src=\"https://colab.research.google.com/assets/colab-badge.svg\" alt=\"Open In Colab\"/></a>"
      ]
    },
    {
      "cell_type": "code",
      "execution_count": 1,
      "metadata": {
        "colab": {
          "base_uri": "https://localhost:8080/"
        },
        "id": "Jp9hK0Ky6u-r",
        "outputId": "7849dd2d-d12c-4e98-d8b7-1a25269bceda"
      },
      "outputs": [
        {
          "output_type": "stream",
          "name": "stdout",
          "text": [
            "Nhập vào kích thước của mảng: 3\n",
            "Nhập giá trị thứ 1: 2\n",
            "Nhập giá trị thứ 2: 3\n",
            "Nhập giá trị thứ 3: 1\n",
            "Phần tử nhỏ nhất là 1\n",
            "Phần tử lớn nhất là 3\n",
            "Tổng các phần tử trong L: 6\n",
            "Mảng L sau khi sắp xếp: [1, 2, 3]\n",
            "Có 3 số dương trong mảng L\n",
            "Có 0 số âm trong mảng L\n"
          ]
        }
      ],
      "source": [
        "# Task 1.1\n",
        "def number(n):\n",
        "  L = []\n",
        "  pos = neg = 0\n",
        "  sum = 0\n",
        "\n",
        "# Nhập mảng L với kích thước n vào.\n",
        "  n = int(input(\"Nhập vào kích thước của mảng: \"))\n",
        "  for i in range(n):\n",
        "    temp = int(input(f\"Nhập giá trị thứ {i+1}: \"))\n",
        "    L.append(temp)\n",
        "\n",
        "# In ra lớn bé trong mảng L\n",
        "  print(\"Phần tử nhỏ nhất là \" + str(min(L)))\n",
        "  print(\"Phần tử lớn nhất là \" + str(max(L)))\n",
        "\n",
        "# Tính Tổng, tổng số + - trong L\n",
        "  for i in L:\n",
        "    sum = sum + i\n",
        "    if(i > 0):\n",
        "     pos += 1\n",
        "    elif(i < 0):\n",
        "     neg += 1\n",
        "\n",
        "# In ra các kết quả\n",
        "  print(\"Tổng các phần tử trong L: \" + str(sum))\n",
        "  print(\"Mảng L sau khi sắp xếp: \" + str(sorted(L)))\n",
        "  print(\"Có \" + str(pos) +\" số dương trong mảng L\")\n",
        "  print(\"Có \" + str(neg) +\" số âm trong mảng L\")\n",
        "\n",
        "number(3)"
      ]
    },
    {
      "cell_type": "code",
      "source": [
        "# task 1.2\n",
        "# Tính Tích thành phần\n",
        "def multiple(n):\n",
        "  m = 1\n",
        "  for i in range(1, n+1):\n",
        "    m *= i\n",
        "  return m\n",
        "\n",
        "# Tính tổng\n",
        "def Sum(n):\n",
        "  s = 0\n",
        "  for i in range(1, n+1):\n",
        "    s += multiple(i)\n",
        "  return s\n",
        "\n",
        "# Test\n",
        "temp = int(input(\"Enter n\"))\n",
        "print(\"Kết quả từ phép tính S(n)=1+1.2+1.2.3+…+1.2.3…n, n>0\",\"với n là\", temp,\"ra\",Sum(temp))"
      ],
      "metadata": {
        "colab": {
          "base_uri": "https://localhost:8080/"
        },
        "id": "z7c-NAZtOqFF",
        "outputId": "07dc97cf-091f-428c-a072-83a32066dad9"
      },
      "execution_count": null,
      "outputs": [
        {
          "output_type": "stream",
          "name": "stdout",
          "text": [
            "Enter n3\n",
            "Kết quả từ phép tính S(n)=1+1.2+1.2.3+…+1.2.3…n, n>0 với n là 3 ra 9\n"
          ]
        }
      ]
    },
    {
      "cell_type": "code",
      "source": [
        "# task 1.3\n",
        "class Account:\n",
        "  def __init__(self, name: str, email: str, country: str, friends: List['Account'], posts: List['Post']):\n",
        "    self.name = name\n",
        "    self.email = email\n",
        "    self.country = country\n",
        "    self.friends = friends\n",
        "    self.posts = posts\n",
        "\n",
        "  def getMaxLikePostByFriend(self):\n",
        "    max_like_post = None\n",
        "    max_likes = 0\n",
        "\n",
        "    for friend in self.friends:\n",
        "        for post in friend.posts:\n",
        "            if post.likes > max_likes:\n",
        "                max_likes = post.likes\n",
        "                max_like_post = post\n",
        "    return max_like_post\n",
        "\n",
        "class Post:\n",
        "  def __init__(self, content: str, subject: str, likes: int):\n",
        "    self.content = content\n",
        "    self.subject = subject\n",
        "    self.likes = likes\n",
        "\n",
        "class AccountManager:\n",
        "  def __init__(self, accounts: List['Account']):\n",
        "    self.accounts = accounts"
      ],
      "metadata": {
        "id": "hcjS8oeKQhua"
      },
      "execution_count": null,
      "outputs": []
    },
    {
      "cell_type": "code",
      "source": [
        "# task 2.1\n",
        "import numpy as  np\n",
        "\n",
        "# Tạo mảng từ 10 --> 25\n",
        "ori_array = np.arange(10, 26)\n",
        "\n",
        "# Đảo ngược lại\n",
        "rever_array = np.flip(ori_array)\n",
        "\n",
        "# Test\n",
        "print(\"Mảng gốc: \", ori_array)\n",
        "print(\"Mảng bị đảo ngược: \", rever_array)"
      ],
      "metadata": {
        "colab": {
          "base_uri": "https://localhost:8080/"
        },
        "id": "9O35_PXJQrx5",
        "outputId": "3b52b62b-8bc1-4d8a-f048-d44b7c1b82d7"
      },
      "execution_count": null,
      "outputs": [
        {
          "output_type": "stream",
          "name": "stdout",
          "text": [
            "Mảng gốc:  [10 11 12 13 14 15 16 17 18 19 20 21 22 23 24 25]\n",
            "Mảng bị đảo ngược:  [25 24 23 22 21 20 19 18 17 16 15 14 13 12 11 10]\n"
          ]
        }
      ]
    },
    {
      "cell_type": "code",
      "source": [
        "# Task 2.2\n",
        "import numpy as np\n",
        "\n",
        "# Nhập mảng vào\n",
        "in_arr = np.array([1,2,3,4])\n",
        "\n",
        "# In ra mảng gốc\n",
        "print(\"Original array:\", in_arr)\n",
        "\n",
        "# Lặp lại mảng 2 lần\n",
        "repeated_2_times = np.tile(in_arr, 2)\n",
        "print(\"Repeating 2 times:\", repeated_2_times)\n",
        "\n",
        "# Lặp lại mảng 3 lần\n",
        "repeated_3_times = np.tile(in_arr, 3)\n",
        "print(\"Repeating 3 times:\", repeated_3_times)"
      ],
      "metadata": {
        "colab": {
          "base_uri": "https://localhost:8080/"
        },
        "id": "Zt9aLqQNSeAC",
        "outputId": "f564e165-7044-4528-ec10-76e33f81bd19"
      },
      "execution_count": null,
      "outputs": [
        {
          "output_type": "stream",
          "name": "stdout",
          "text": [
            "Original array: [1 2 3 4]\n",
            "Repeating 2 times: [1 2 3 4 1 2 3 4]\n",
            "Repeating 3 times: [1 2 3 4 1 2 3 4 1 2 3 4]\n"
          ]
        }
      ]
    },
    {
      "cell_type": "code",
      "source": [
        "# Task 2.3\n",
        "import numpy as np\n",
        "\n",
        "# Mảng nhận vào\n",
        "inp_arr = np.array([[0.42, 0.48, 0.32], [0.74, 0.58, 0.38], [0.51, 0.34, 0.15]])\n",
        "\n",
        "# Hiển thị mảng gốc\n",
        "print(\"Original array:\")\n",
        "print(inp_arr)\n",
        "print(\"\")\n",
        "\n",
        "# Giá trị cần so sánh và thay thế\n",
        "specified_value = 0.5\n",
        "\n",
        "# Thay thế tất cả các phần tử NHỎ hơn giá trị cần so sánh\n",
        "output_array = np.where(inp_arr < specified_value, specified_value, inp_arr)\n",
        "\n",
        "# Hiển thị mảng sau khi thay thế\n",
        "print(f\"Replace all elements of the original array with {specified_value} for values which are LESS than {specified_value}\")\n",
        "print(output_array)\n",
        "print(\"\")\n",
        "\n",
        "# Thay thế tất cả các phần tử LỚN hơn giá trị cần so sánh\n",
        "output_array = np.where(inp_arr > specified_value, specified_value, inp_arr)\n",
        "\n",
        "# Hiển thị mảng sau khi thay thế\n",
        "print(f\"Replace all elements of the original array with {specified_value} for values which are GREATER than {specified_value}\")\n",
        "print(output_array)"
      ],
      "metadata": {
        "colab": {
          "base_uri": "https://localhost:8080/"
        },
        "id": "aa_xAZ0oVgUK",
        "outputId": "46aa5526-8955-4e65-ab7e-dd318785902a"
      },
      "execution_count": null,
      "outputs": [
        {
          "output_type": "stream",
          "name": "stdout",
          "text": [
            "Original array:\n",
            "[[0.42 0.48 0.32]\n",
            " [0.74 0.58 0.38]\n",
            " [0.51 0.34 0.15]]\n",
            "\n",
            "Replace all elements of the original array with 0.5 for values which are LESS than 0.5\n",
            "[[0.5  0.5  0.5 ]\n",
            " [0.74 0.58 0.5 ]\n",
            " [0.51 0.5  0.5 ]]\n",
            "\n",
            "Replace all elements of the original array with 0.5 for values which are GREATER than 0.5\n",
            "[[0.42 0.48 0.32]\n",
            " [0.5  0.5  0.38]\n",
            " [0.5  0.34 0.15]]\n"
          ]
        }
      ]
    }
  ],
  "metadata": {
    "colab": {
      "provenance": [],
      "authorship_tag": "ABX9TyOhDh0E+w88vVcMT493W3KV",
      "include_colab_link": true
    },
    "kernelspec": {
      "display_name": "Python 3",
      "name": "python3"
    },
    "language_info": {
      "name": "python"
    }
  },
  "nbformat": 4,
  "nbformat_minor": 0
}