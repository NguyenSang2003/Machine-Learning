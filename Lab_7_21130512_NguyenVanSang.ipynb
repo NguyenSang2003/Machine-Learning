{
  "nbformat": 4,
  "nbformat_minor": 0,
  "metadata": {
    "colab": {
      "provenance": [],
      "include_colab_link": true
    },
    "kernelspec": {
      "name": "python3",
      "display_name": "Python 3"
    },
    "language_info": {
      "name": "python"
    }
  },
  "cells": [
    {
      "cell_type": "markdown",
      "metadata": {
        "id": "view-in-github",
        "colab_type": "text"
      },
      "source": [
        "<a href=\"https://colab.research.google.com/github/NguyenSang2003/Machine-Learning/blob/main/Lab_7_21130512_NguyenVanSang.ipynb\" target=\"_parent\"><img src=\"https://colab.research.google.com/assets/colab-badge.svg\" alt=\"Open In Colab\"/></a>"
      ]
    },
    {
      "cell_type": "markdown",
      "source": [
        "# This lab deals with **GridSearchCV** for tuning the hyper-parameters of an estimator and applying vectorization techniques to the **movie reviews dataset** for classification task.\n",
        "\n",
        "*   **Deadline: 23:59, 22/4/2024 (lớp TH thứ 3) || 29/4/2024 (lớp TH thứ 5)**\n",
        "\n"
      ],
      "metadata": {
        "id": "LMzehe0sy5wr"
      }
    },
    {
      "cell_type": "markdown",
      "source": [
        "# Import libraries"
      ],
      "metadata": {
        "id": "H4nJmxp9zGX4"
      }
    },
    {
      "cell_type": "code",
      "execution_count": 1,
      "metadata": {
        "id": "DoVWQ8AEyc-C"
      },
      "outputs": [],
      "source": [
        "import numpy as np\n",
        "import pandas as pd\n",
        "import matplotlib.pyplot as plt\n",
        "import seaborn as sns\n",
        "from sklearn import preprocessing\n",
        "from sklearn import datasets\n",
        "from sklearn.decomposition import PCA\n",
        "from sklearn.preprocessing import StandardScaler\n",
        "from sklearn.model_selection import train_test_split\n",
        "from sklearn.neighbors import KNeighborsClassifier\n",
        "from sklearn.ensemble import RandomForestClassifier\n",
        "from sklearn import metrics\n",
        "from sklearn.impute import SimpleImputer\n",
        "from sklearn.linear_model import LinearRegression,LogisticRegression\n",
        "from sklearn.metrics import accuracy_score, precision_score, recall_score, f1_score\n",
        "from sklearn.naive_bayes import GaussianNB\n",
        "from sklearn import svm\n",
        "from sklearn.svm import SVC\n",
        "from sklearn.preprocessing import OneHotEncoder\n",
        "from sklearn.tree import DecisionTreeClassifier\n",
        "from sklearn.feature_selection import SelectKBest, f_classif\n",
        "from sklearn.preprocessing import LabelEncoder\n",
        "from sklearn.model_selection import GridSearchCV\n",
        "from prettytable import PrettyTable"
      ]
    },
    {
      "cell_type": "code",
      "source": [
        "# n_estimators: số cây quyết định\n",
        "# max_features: số thuộc tính tối đa\n",
        "\n",
        "# criterien: tiêu chí chọn nút gốc"
      ],
      "metadata": {
        "id": "YszY_fw7K2ua"
      },
      "execution_count": null,
      "outputs": []
    },
    {
      "cell_type": "markdown",
      "source": [
        "#Task 1. With **iris** dataset\n",
        "*  1.1. Apply **GridSearchCV** for **SVM** to find the best hyperparameters using the following param_grid.\n",
        "\n",
        "```\n",
        "param_grid = {'C': [0.1, 1, 10, 100, 1000],\n",
        "              'gamma': [1, 0.1, 0.01, 0.001, 0.0001],\n",
        "              'kernel': ['rbf','linear']}\n",
        "```\n",
        "\n",
        "\n"
      ],
      "metadata": {
        "id": "x_dG9SA5OhGT"
      }
    },
    {
      "cell_type": "code",
      "source": [
        "# Load dataset\n",
        "iris = datasets.load_iris()\n",
        "X = iris.data\n",
        "y = iris.target"
      ],
      "metadata": {
        "id": "z2ekQRRRMXWq"
      },
      "execution_count": null,
      "outputs": []
    },
    {
      "cell_type": "code",
      "source": [
        "# Định nghĩa lưới tham số\n",
        "param_grid = {'C': [0.1, 1, 10, 100, 1000],\n",
        "              'gamma': [1, 0.1, 0.01, 0.001, 0.0001],\n",
        "              'kernel': ['rbf', 'linear']}\n",
        "\n",
        "# Tạo mô hình SVM\n",
        "svm_model = SVC()\n",
        "\n",
        "# Khởi tạo GridSearchCV\n",
        "grid_search = GridSearchCV(estimator=svm_model, param_grid=param_grid, cv=5)\n",
        "\n",
        "# Huấn luyện GridSearchCV trên dữ liệu\n",
        "grid_search.fit(X, y)\n",
        "\n",
        "# In ra các hyperparameters tốt nhất và điểm số tốt nhất\n",
        "print(\"Hyperparameters tốt nhất:\", grid_search.best_params_)\n",
        "print(\"Điểm số tốt nhất:\", grid_search.best_score_)"
      ],
      "metadata": {
        "id": "62jExOZ952fF",
        "colab": {
          "base_uri": "https://localhost:8080/"
        },
        "outputId": "00cc23b3-e4fd-469e-af1e-f6074dc80f76"
      },
      "execution_count": null,
      "outputs": [
        {
          "output_type": "stream",
          "name": "stdout",
          "text": [
            "Hyperparameters tốt nhất: {'C': 1, 'gamma': 1, 'kernel': 'linear'}\n",
            "Điểm số tốt nhất: 0.9800000000000001\n"
          ]
        }
      ]
    },
    {
      "cell_type": "markdown",
      "source": [
        "*  1.2. Apply **GridSearchCV** for **kNN** to find the best hyperparameters using the following param_grid.\n",
        "\n",
        "```\n",
        "grid_params = { 'n_neighbors' : [5,7,9,11,13,15],\n",
        "               'weights' : ['uniform','distance'],\n",
        "               'metric' : ['minkowski','euclidean','manhattan']}\n",
        "```\n",
        "where\n",
        "\n",
        "    *  **n_neighbors**: Decide the best k based on the values we have computed earlier.\n",
        "    *  **weights**: Check whether adding weights to the data points is beneficial to the model or not. 'uniform' assigns no weight, while 'distance' weighs points by the inverse of their distances meaning nearer points will have more weight than the farther points.\n",
        "    *  **metric**: The distance metric to be used will calculating the similarity.\n"
      ],
      "metadata": {
        "id": "2g--8cng53sY"
      }
    },
    {
      "cell_type": "code",
      "source": [
        "# Tạo mô hình kNN\n",
        "knn_model = KNeighborsClassifier()\n",
        "\n",
        "# Định nghĩa lưới tham số\n",
        "grid_params = {'n_neighbors': [5, 7, 9, 11, 13, 15],  # Số lượng láng giềng\n",
        "               'weights': ['uniform', 'distance'],  # Cách tính trọng số\n",
        "               'metric': ['minkowski', 'euclidean', 'manhattan']}  # Phương pháp đo khoảng cách\n",
        "\n",
        "# Khởi tạo GridSearchCV\n",
        "grid_search_knn = GridSearchCV(estimator=knn_model, param_grid=grid_params, cv=5)\n",
        "\n",
        "# Huấn luyện GridSearchCV trên dữ liệu\n",
        "grid_search_knn.fit(X, y)\n",
        "\n",
        "# In ra các hyperparameters tốt nhất và điểm số tốt nhất\n",
        "print(\"Các tham số tốt nhất cho kNN:\", grid_search_knn.best_params_)\n",
        "print(\"Điểm số tốt nhất:\", grid_search_knn.best_score_)"
      ],
      "metadata": {
        "id": "fX0_kItYPism",
        "colab": {
          "base_uri": "https://localhost:8080/"
        },
        "outputId": "ba4ea235-dbaf-4890-a2d0-a3ea3a227df7"
      },
      "execution_count": null,
      "outputs": [
        {
          "output_type": "stream",
          "name": "stdout",
          "text": [
            "Các tham số tốt nhất cho kNN: {'metric': 'minkowski', 'n_neighbors': 11, 'weights': 'distance'}\n",
            "Điểm số tốt nhất: 0.9866666666666667\n"
          ]
        }
      ]
    },
    {
      "cell_type": "markdown",
      "source": [
        "*  1.3. Apply **GridSearchCV** for **Random Forest** to find the best hyperparameters using the following param_grid.\n",
        "\n",
        "```\n",
        "param_grid = {\n",
        "    'n_estimators': [25, 50, 100, 150],\n",
        "    'max_features': ['sqrt', 'log2', None],\n",
        "    'max_depth': [3, 6, 9],\n",
        "    'max_leaf_nodes': [3, 6, 9],\n",
        "}\n",
        "```"
      ],
      "metadata": {
        "id": "3lQSOcjL_TIW"
      }
    },
    {
      "cell_type": "code",
      "source": [
        "# Định nghĩa lưới tham số cho Random Forest\n",
        "param_grid_rf = {\n",
        "    'n_estimators': [25, 50, 100, 150],  # Số lượng cây quyết định trong ensemble\n",
        "    'max_features': ['sqrt', 'log2', None],  # Số lượng tính năng được sử dụng khi tạo ra các cây quyết định\n",
        "    'max_depth': [3, 6, 9],  # Độ sâu tối đa của các cây quyết định\n",
        "    'max_leaf_nodes': [3, 6, 9],  # Số lượng nút lá tối đa mà mỗi cây quyết định được phép có\n",
        "}\n",
        "\n",
        "# Tạo mô hình Random Forest\n",
        "rf_model = RandomForestClassifier()\n",
        "\n",
        "# Khởi tạo GridSearchCV cho Random Forest với các tham số đã định nghĩa\n",
        "grid_search_rf = GridSearchCV(estimator=rf_model, param_grid=param_grid_rf, cv=5)\n",
        "\n",
        "# Huấn luyện GridSearchCV trên dữ liệu\n",
        "grid_search_rf.fit(X, y)\n",
        "\n",
        "# In ra các siêu tham số tốt nhất và điểm số tốt nhất\n",
        "print(\"Các tham số tốt nhất cho Random Forest:\", grid_search_rf.best_params_)\n",
        "print(\"Điểm số tốt nhất cho Random Forest:\", grid_search_rf.best_score_)"
      ],
      "metadata": {
        "id": "OlyF9WpN_01p",
        "colab": {
          "base_uri": "https://localhost:8080/"
        },
        "outputId": "3c5c353d-9eef-4cb2-f79b-74690e126455"
      },
      "execution_count": null,
      "outputs": [
        {
          "output_type": "stream",
          "name": "stdout",
          "text": [
            "Các tham số tốt nhất cho Random Forest: {'max_depth': 3, 'max_features': 'sqrt', 'max_leaf_nodes': 6, 'n_estimators': 25}\n",
            "Điểm số tốt nhất cho Random Forest: 0.9666666666666668\n"
          ]
        }
      ]
    },
    {
      "cell_type": "markdown",
      "source": [
        "*   1.4 Compare the best obtained results from 1.1 to 1.3 (use PrettyTable to dispaly the results)"
      ],
      "metadata": {
        "id": "G3N7TD7s_3Kp"
      }
    },
    {
      "cell_type": "code",
      "source": [
        "# Khởi tạo bảng\n",
        "table = PrettyTable()\n",
        "\n",
        "# Đặt tên các cột\n",
        "table.field_names = [\"Task\", \"Model\", \"Best Parameters\", \"Best Score\"]\n",
        "\n",
        "# Thêm thông tin cho Task 1.1 - GridSearchCV for SVM\n",
        "table.add_row([\"1.1\", \"SVM\", grid_search.best_params_, grid_search.best_score_])\n",
        "\n",
        "# Thêm thông tin cho Task 1.2 - GridSearchCV for kNN\n",
        "table.add_row([\"1.2\", \"kNN\", grid_search_knn.best_params_, grid_search_knn.best_score_])\n",
        "\n",
        "# Thêm thông tin cho Task 1.3 - GridSearchCV for Random Forest\n",
        "table.add_row([\"1.3\", \"Random Forest\", grid_search_rf.best_params_, grid_search_rf.best_score_])\n",
        "\n",
        "# In ra bảng\n",
        "print(table)"
      ],
      "metadata": {
        "colab": {
          "base_uri": "https://localhost:8080/"
        },
        "id": "Wqlao2fSUshe",
        "outputId": "55b1fe40-94d4-4b85-90b8-fa99321373c8"
      },
      "execution_count": null,
      "outputs": [
        {
          "output_type": "stream",
          "name": "stdout",
          "text": [
            "+------+---------------+-----------------------------------------------------------------------------------+--------------------+\n",
            "| Task |     Model     |                                  Best Parameters                                  |     Best Score     |\n",
            "+------+---------------+-----------------------------------------------------------------------------------+--------------------+\n",
            "| 1.1  |      SVM      |                      {'C': 1, 'gamma': 1, 'kernel': 'linear'}                     | 0.9800000000000001 |\n",
            "| 1.2  |      kNN      |         {'metric': 'minkowski', 'n_neighbors': 11, 'weights': 'distance'}         | 0.9866666666666667 |\n",
            "| 1.3  | Random Forest | {'max_depth': 3, 'max_features': 'sqrt', 'max_leaf_nodes': 9, 'n_estimators': 25} | 0.9666666666666668 |\n",
            "+------+---------------+-----------------------------------------------------------------------------------+--------------------+\n"
          ]
        }
      ]
    },
    {
      "cell_type": "markdown",
      "source": [
        "#Task 2.\n",
        "For breast cancer dataset (https://tinyurl.com/3vme8hr3) which could be loaded from datasets in sklearn as follows:\n",
        "\n",
        "```\n",
        "#Import scikit-learn dataset library\n",
        "from sklearn import datasets\n",
        "\n",
        "#Load dataset\n",
        "cancer = datasets.load_breast_cancer()\n",
        "```\n",
        "\n",
        "*   Apply **GridSearchCV** to different classification algorithms such as **SVM, kNN, LogisticRegression, RandomForest**.\n",
        "*   Compare the results obtained by the best hyperparameters among classification algorithms."
      ],
      "metadata": {
        "id": "kNv07ARGzOUm"
      }
    },
    {
      "cell_type": "code",
      "source": [
        "# Import scikit-learn dataset library\n",
        "from sklearn import datasets\n",
        "\n",
        "# Load dataset\n",
        "cancer = datasets.load_breast_cancer()\n",
        "\n",
        "X = cancer.data\n",
        "y = cancer.target"
      ],
      "metadata": {
        "id": "aC9q0RuQVr4l"
      },
      "execution_count": 2,
      "outputs": []
    },
    {
      "cell_type": "markdown",
      "source": [
        "*   2.1. Apply **GridSearchCV** to **SVM**\n"
      ],
      "metadata": {
        "id": "pnoVB8J4vV36"
      }
    },
    {
      "cell_type": "code",
      "source": [
        "# Định nghĩa lưới tham số\n",
        "# param_grid = {'C': [0.1, 1, 10, 100, 1000],\n",
        "#               'gamma': [1, 0.1, 0.01, 0.001, 0.0001],\n",
        "#               'kernel': ['rbf', 'linear','poly'],\n",
        "#               'degree': [2,3]}\n",
        "\n",
        "#  giảm lưới tham số cho mô hình SVM\n",
        "param_grid = {'C': [0.1, 1, 10],\n",
        "              'gamma': [1, 0.1, 0.01],\n",
        "              'kernel': ['rbf', 'linear'],\n",
        "              'degree': [2,3]}\n",
        "\n",
        "# Tạo mô hình SVM\n",
        "svm_model = SVC()\n",
        "\n",
        "# Khởi tạo GridSearchCV\n",
        "grid_search = GridSearchCV(estimator=svm_model, param_grid=param_grid, cv=3)\n",
        "\n",
        "# Huấn luyện GridSearchCV trên dữ liệu\n",
        "grid_search.fit(X, y)\n",
        "\n",
        "# In ra các hyperparameters tốt nhất và điểm số tốt nhất\n",
        "print(\"Hyperparameters tốt nhất:\", grid_search.best_params_)\n",
        "print(\"Điểm số tốt nhất:\", grid_search.best_score_)"
      ],
      "metadata": {
        "id": "-ZTSvsJdvYqI",
        "colab": {
          "base_uri": "https://localhost:8080/"
        },
        "outputId": "29d81c64-96f1-42f6-dbdb-643259855ffb"
      },
      "execution_count": null,
      "outputs": [
        {
          "output_type": "stream",
          "name": "stdout",
          "text": [
            "Hyperparameters tốt nhất: {'C': 10, 'degree': 2, 'gamma': 1, 'kernel': 'linear'}\n",
            "Điểm số tốt nhất: 0.9543024227234754\n"
          ]
        }
      ]
    },
    {
      "cell_type": "markdown",
      "source": [
        "*   2.2. Apply **GridSearchCV** to **kNN**"
      ],
      "metadata": {
        "id": "ol1U_T_NvcqV"
      }
    },
    {
      "cell_type": "code",
      "source": [
        "# Định nghĩa lưới tham số cho kNN\n",
        "param_grid_knn = {'n_neighbors': [5, 7, 9, 11, 13, 15],\n",
        "                  'weights': ['uniform', 'distance'],\n",
        "                  'metric': ['minkowski', 'euclidean', 'manhattan']}\n",
        "\n",
        "# Tạo mô hình kNN\n",
        "knn_model = KNeighborsClassifier()\n",
        "\n",
        "# Khởi tạo GridSearchCV cho kNN với các tham số đã định nghĩa\n",
        "grid_search_knn = GridSearchCV(estimator=knn_model, param_grid=param_grid_knn, cv=3)\n",
        "\n",
        "# Huấn luyện GridSearchCV trên dữ liệu\n",
        "grid_search_knn.fit(X, y)\n",
        "\n",
        "# In ra các hyperparameters tốt nhất và điểm số tốt nhất\n",
        "print(\"Hyperparameters tốt nhất cho kNN:\", grid_search_knn.best_params_)\n",
        "print(\"Điểm số tốt nhất cho kNN:\", grid_search_knn.best_score_)"
      ],
      "metadata": {
        "id": "kt71yrAoBwYE",
        "colab": {
          "base_uri": "https://localhost:8080/"
        },
        "outputId": "4b153502-9034-4a8b-934f-a9b46d6087ff"
      },
      "execution_count": null,
      "outputs": [
        {
          "output_type": "stream",
          "name": "stdout",
          "text": [
            "Hyperparameters tốt nhất cho kNN: {'metric': 'minkowski', 'n_neighbors': 11, 'weights': 'uniform'}\n",
            "Điểm số tốt nhất cho kNN: 0.931486122714193\n"
          ]
        }
      ]
    },
    {
      "cell_type": "markdown",
      "source": [
        "*   2.3. Apply **GridSearchCV** to **LogisticRegression**"
      ],
      "metadata": {
        "id": "pPkAvse-BxNa"
      }
    },
    {
      "cell_type": "code",
      "source": [
        "# Scale dữ liệu\n",
        "scaler = StandardScaler()\n",
        "X_scaled = scaler.fit_transform(X)\n",
        "\n",
        "# Định nghĩa lưới tham số cho Logistic Regression\n",
        "param_grid_lr = {'C': [0.1, 1, 10, 100, 1000],\n",
        "                 'penalty': ['l2']}\n",
        "\n",
        "# Tạo mô hình Logistic Regression\n",
        "lr_model = LogisticRegression(max_iter=1000)  # Tăng số lần lặp tối đa\n",
        "\n",
        "# Khởi tạo GridSearchCV cho Logistic Regression với các tham số đã định nghĩa\n",
        "grid_search_lr = GridSearchCV(estimator=lr_model, param_grid=param_grid_lr, cv=3)\n",
        "\n",
        "# Huấn luyện GridSearchCV trên dữ liệu đã được tỷ lệ\n",
        "grid_search_lr.fit(X_scaled, y)\n",
        "\n",
        "# In ra các hyperparameters tốt nhất và điểm số tốt nhất\n",
        "print(\"Hyperparameters tốt nhất cho Logistic Regression:\", grid_search_lr.best_params_)\n",
        "print(\"Điểm số tốt nhất cho Logistic Regression:\", grid_search_lr.best_score_)"
      ],
      "metadata": {
        "colab": {
          "base_uri": "https://localhost:8080/"
        },
        "id": "9dR7niNrJfXs",
        "outputId": "9d6f9fd4-351c-43f9-f93d-ade544c1b28c"
      },
      "execution_count": null,
      "outputs": [
        {
          "output_type": "stream",
          "name": "stdout",
          "text": [
            "Hyperparameters tốt nhất cho Logistic Regression: {'C': 1, 'penalty': 'l2'}\n",
            "Điểm số tốt nhất cho Logistic Regression: 0.975392184164114\n"
          ]
        }
      ]
    },
    {
      "cell_type": "markdown",
      "source": [
        "*   2.4. Apply **GridSearchCV** to **RandomForest**"
      ],
      "metadata": {
        "id": "3NjSLo5jB1xY"
      }
    },
    {
      "cell_type": "code",
      "source": [
        "# Định nghĩa lưới tham số cho RandomForest\n",
        "param_grid_rf = {\n",
        "    'n_estimators': [25, 50, 100, 150],\n",
        "    'max_features': ['sqrt', 'log2', None],\n",
        "    'max_depth': [3, 6, 9],\n",
        "    'max_leaf_nodes': [3, 6, 9],\n",
        "}\n",
        "\n",
        "# Tạo mô hình RandomForest\n",
        "rf_model = RandomForestClassifier()\n",
        "\n",
        "# Khởi tạo GridSearchCV cho RandomForest với các tham số đã định nghĩa\n",
        "grid_search_rf = GridSearchCV(estimator=rf_model, param_grid=param_grid_rf, cv=3)\n",
        "\n",
        "# Huấn luyện GridSearchCV trên dữ liệu\n",
        "grid_search_rf.fit(X, y)\n",
        "\n",
        "# In ra các hyperparameters tốt nhất và điểm số tốt nhất\n",
        "print(\"Hyperparameters tốt nhất cho RandomForest:\", grid_search_rf.best_params_)\n",
        "print(\"Điểm số tốt nhất cho RandomForest:\", grid_search_rf.best_score_)"
      ],
      "metadata": {
        "id": "nktGtM0PB7XB",
        "colab": {
          "base_uri": "https://localhost:8080/"
        },
        "outputId": "09e2c48c-6cd4-4c9f-d39f-8a026bff587b"
      },
      "execution_count": null,
      "outputs": [
        {
          "output_type": "stream",
          "name": "stdout",
          "text": [
            "Hyperparameters tốt nhất cho RandomForest: {'max_depth': 9, 'max_features': 'log2', 'max_leaf_nodes': 9, 'n_estimators': 25}\n",
            "Điểm số tốt nhất cho RandomForest: 0.9613570964448157\n"
          ]
        }
      ]
    },
    {
      "cell_type": "markdown",
      "source": [
        "*   2.5. Compare the best obtained results among classification algorithms (use PrettyTable to dispaly the results)"
      ],
      "metadata": {
        "id": "NZJ3BSHpB9Dx"
      }
    },
    {
      "cell_type": "code",
      "source": [
        "# Tạo bảng\n",
        "table = PrettyTable()\n",
        "\n",
        "# Thêm cột\n",
        "table.field_names = [\"Thuật toán\", \"Điểm số tốt nhất\"]\n",
        "\n",
        "# Thêm dữ liệu\n",
        "table.add_row([\"SVM\", grid_search.best_score_])\n",
        "table.add_row([\"kNN\", grid_search_knn.best_score_])\n",
        "table.add_row([\"Logistic Regression\", grid_search_lr.best_score_])\n",
        "table.add_row([\"Random Forest\", grid_search_rf.best_score_])\n",
        "\n",
        "# In ra bảng\n",
        "print(table)"
      ],
      "metadata": {
        "id": "8LS_IYfNCFEj",
        "colab": {
          "base_uri": "https://localhost:8080/"
        },
        "outputId": "7db4b878-dd3b-4c7f-9789-8d2e77e72981"
      },
      "execution_count": null,
      "outputs": [
        {
          "output_type": "stream",
          "name": "stdout",
          "text": [
            "+---------------------+--------------------+\n",
            "|      Thuật toán     |  Điểm số tốt nhất  |\n",
            "+---------------------+--------------------+\n",
            "|         SVM         | 0.9543024227234754 |\n",
            "|         kNN         | 0.931486122714193  |\n",
            "| Logistic Regression | 0.975392184164114  |\n",
            "|    Random Forest    | 0.9613570964448157 |\n",
            "+---------------------+--------------------+\n"
          ]
        }
      ]
    },
    {
      "cell_type": "markdown",
      "source": [
        "#Task 3. With **mobile price classification** dataset\n",
        "* 3.1.  Apply **GridSearchCV** for **SVM, kNN, RandomForest** algorithms to find the best hyperparameters for each classification algorithm.\n",
        "* 3.2. Compare the best obtained results among classification algorithms (use PrettyTable to dispaly the results)"
      ],
      "metadata": {
        "id": "az26oYW1Yxuz"
      }
    },
    {
      "cell_type": "code",
      "source": [
        "from google.colab import drive\n",
        "drive.mount('/content/gdrive')\n",
        "%cd '/content/gdrive/MyDrive/Data_Labs_ML/Lab6'"
      ],
      "metadata": {
        "colab": {
          "base_uri": "https://localhost:8080/"
        },
        "id": "iEmMt37uOEpm",
        "outputId": "e659a95a-cdc9-4694-ac83-7514d4bbd6c1"
      },
      "execution_count": 3,
      "outputs": [
        {
          "output_type": "stream",
          "name": "stdout",
          "text": [
            "Mounted at /content/gdrive\n",
            "/content/gdrive/MyDrive/Data_Labs_ML/Lab6\n"
          ]
        }
      ]
    },
    {
      "cell_type": "code",
      "source": [
        "# Đọc dữ liệu từ cả hai tệp CSV\n",
        "data = pd.read_csv(\"mobile.csv\")\n",
        "\n",
        "# Chia dữ liệu thành features (X) và labels (y)\n",
        "X = data.drop('price_range', axis=1)\n",
        "y = data['price_range']\n",
        "\n",
        "# Chia dữ liệu thành tập huấn luyện và tập kiểm tra\n",
        "X_train, X_test, y_train, y_test = train_test_split(X, y, test_size=0.2, random_state=42)\n",
        "\n",
        "data.tail()"
      ],
      "metadata": {
        "colab": {
          "base_uri": "https://localhost:8080/",
          "height": 256
        },
        "id": "c8X2-jypOYrc",
        "outputId": "506c9d85-c9e9-41b7-a055-ea439d4673c2"
      },
      "execution_count": 4,
      "outputs": [
        {
          "output_type": "execute_result",
          "data": {
            "text/plain": [
              "      battery_power  blue  clock_speed  dual_sim  fc  four_g  int_memory  \\\n",
              "1995            794     1          0.5         1   0       1           2   \n",
              "1996           1965     1          2.6         1   0       0          39   \n",
              "1997           1911     0          0.9         1   1       1          36   \n",
              "1998           1512     0          0.9         0   4       1          46   \n",
              "1999            510     1          2.0         1   5       1          45   \n",
              "\n",
              "      m_dep  mobile_wt  n_cores  ...  px_height  px_width   ram  sc_h  sc_w  \\\n",
              "1995    0.8        106        6  ...       1222      1890   668    13     4   \n",
              "1996    0.2        187        4  ...        915      1965  2032    11    10   \n",
              "1997    0.7        108        8  ...        868      1632  3057     9     1   \n",
              "1998    0.1        145        5  ...        336       670   869    18    10   \n",
              "1999    0.9        168        6  ...        483       754  3919    19     4   \n",
              "\n",
              "      talk_time  three_g  touch_screen  wifi  price_range  \n",
              "1995         19        1             1     0            0  \n",
              "1996         16        1             1     1            2  \n",
              "1997          5        1             1     0            3  \n",
              "1998         19        1             1     1            0  \n",
              "1999          2        1             1     1            3  \n",
              "\n",
              "[5 rows x 21 columns]"
            ],
            "text/html": [
              "\n",
              "  <div id=\"df-5d627c23-f70d-411c-bf4d-5631e2994f72\" class=\"colab-df-container\">\n",
              "    <div>\n",
              "<style scoped>\n",
              "    .dataframe tbody tr th:only-of-type {\n",
              "        vertical-align: middle;\n",
              "    }\n",
              "\n",
              "    .dataframe tbody tr th {\n",
              "        vertical-align: top;\n",
              "    }\n",
              "\n",
              "    .dataframe thead th {\n",
              "        text-align: right;\n",
              "    }\n",
              "</style>\n",
              "<table border=\"1\" class=\"dataframe\">\n",
              "  <thead>\n",
              "    <tr style=\"text-align: right;\">\n",
              "      <th></th>\n",
              "      <th>battery_power</th>\n",
              "      <th>blue</th>\n",
              "      <th>clock_speed</th>\n",
              "      <th>dual_sim</th>\n",
              "      <th>fc</th>\n",
              "      <th>four_g</th>\n",
              "      <th>int_memory</th>\n",
              "      <th>m_dep</th>\n",
              "      <th>mobile_wt</th>\n",
              "      <th>n_cores</th>\n",
              "      <th>...</th>\n",
              "      <th>px_height</th>\n",
              "      <th>px_width</th>\n",
              "      <th>ram</th>\n",
              "      <th>sc_h</th>\n",
              "      <th>sc_w</th>\n",
              "      <th>talk_time</th>\n",
              "      <th>three_g</th>\n",
              "      <th>touch_screen</th>\n",
              "      <th>wifi</th>\n",
              "      <th>price_range</th>\n",
              "    </tr>\n",
              "  </thead>\n",
              "  <tbody>\n",
              "    <tr>\n",
              "      <th>1995</th>\n",
              "      <td>794</td>\n",
              "      <td>1</td>\n",
              "      <td>0.5</td>\n",
              "      <td>1</td>\n",
              "      <td>0</td>\n",
              "      <td>1</td>\n",
              "      <td>2</td>\n",
              "      <td>0.8</td>\n",
              "      <td>106</td>\n",
              "      <td>6</td>\n",
              "      <td>...</td>\n",
              "      <td>1222</td>\n",
              "      <td>1890</td>\n",
              "      <td>668</td>\n",
              "      <td>13</td>\n",
              "      <td>4</td>\n",
              "      <td>19</td>\n",
              "      <td>1</td>\n",
              "      <td>1</td>\n",
              "      <td>0</td>\n",
              "      <td>0</td>\n",
              "    </tr>\n",
              "    <tr>\n",
              "      <th>1996</th>\n",
              "      <td>1965</td>\n",
              "      <td>1</td>\n",
              "      <td>2.6</td>\n",
              "      <td>1</td>\n",
              "      <td>0</td>\n",
              "      <td>0</td>\n",
              "      <td>39</td>\n",
              "      <td>0.2</td>\n",
              "      <td>187</td>\n",
              "      <td>4</td>\n",
              "      <td>...</td>\n",
              "      <td>915</td>\n",
              "      <td>1965</td>\n",
              "      <td>2032</td>\n",
              "      <td>11</td>\n",
              "      <td>10</td>\n",
              "      <td>16</td>\n",
              "      <td>1</td>\n",
              "      <td>1</td>\n",
              "      <td>1</td>\n",
              "      <td>2</td>\n",
              "    </tr>\n",
              "    <tr>\n",
              "      <th>1997</th>\n",
              "      <td>1911</td>\n",
              "      <td>0</td>\n",
              "      <td>0.9</td>\n",
              "      <td>1</td>\n",
              "      <td>1</td>\n",
              "      <td>1</td>\n",
              "      <td>36</td>\n",
              "      <td>0.7</td>\n",
              "      <td>108</td>\n",
              "      <td>8</td>\n",
              "      <td>...</td>\n",
              "      <td>868</td>\n",
              "      <td>1632</td>\n",
              "      <td>3057</td>\n",
              "      <td>9</td>\n",
              "      <td>1</td>\n",
              "      <td>5</td>\n",
              "      <td>1</td>\n",
              "      <td>1</td>\n",
              "      <td>0</td>\n",
              "      <td>3</td>\n",
              "    </tr>\n",
              "    <tr>\n",
              "      <th>1998</th>\n",
              "      <td>1512</td>\n",
              "      <td>0</td>\n",
              "      <td>0.9</td>\n",
              "      <td>0</td>\n",
              "      <td>4</td>\n",
              "      <td>1</td>\n",
              "      <td>46</td>\n",
              "      <td>0.1</td>\n",
              "      <td>145</td>\n",
              "      <td>5</td>\n",
              "      <td>...</td>\n",
              "      <td>336</td>\n",
              "      <td>670</td>\n",
              "      <td>869</td>\n",
              "      <td>18</td>\n",
              "      <td>10</td>\n",
              "      <td>19</td>\n",
              "      <td>1</td>\n",
              "      <td>1</td>\n",
              "      <td>1</td>\n",
              "      <td>0</td>\n",
              "    </tr>\n",
              "    <tr>\n",
              "      <th>1999</th>\n",
              "      <td>510</td>\n",
              "      <td>1</td>\n",
              "      <td>2.0</td>\n",
              "      <td>1</td>\n",
              "      <td>5</td>\n",
              "      <td>1</td>\n",
              "      <td>45</td>\n",
              "      <td>0.9</td>\n",
              "      <td>168</td>\n",
              "      <td>6</td>\n",
              "      <td>...</td>\n",
              "      <td>483</td>\n",
              "      <td>754</td>\n",
              "      <td>3919</td>\n",
              "      <td>19</td>\n",
              "      <td>4</td>\n",
              "      <td>2</td>\n",
              "      <td>1</td>\n",
              "      <td>1</td>\n",
              "      <td>1</td>\n",
              "      <td>3</td>\n",
              "    </tr>\n",
              "  </tbody>\n",
              "</table>\n",
              "<p>5 rows × 21 columns</p>\n",
              "</div>\n",
              "    <div class=\"colab-df-buttons\">\n",
              "\n",
              "  <div class=\"colab-df-container\">\n",
              "    <button class=\"colab-df-convert\" onclick=\"convertToInteractive('df-5d627c23-f70d-411c-bf4d-5631e2994f72')\"\n",
              "            title=\"Convert this dataframe to an interactive table.\"\n",
              "            style=\"display:none;\">\n",
              "\n",
              "  <svg xmlns=\"http://www.w3.org/2000/svg\" height=\"24px\" viewBox=\"0 -960 960 960\">\n",
              "    <path d=\"M120-120v-720h720v720H120Zm60-500h600v-160H180v160Zm220 220h160v-160H400v160Zm0 220h160v-160H400v160ZM180-400h160v-160H180v160Zm440 0h160v-160H620v160ZM180-180h160v-160H180v160Zm440 0h160v-160H620v160Z\"/>\n",
              "  </svg>\n",
              "    </button>\n",
              "\n",
              "  <style>\n",
              "    .colab-df-container {\n",
              "      display:flex;\n",
              "      gap: 12px;\n",
              "    }\n",
              "\n",
              "    .colab-df-convert {\n",
              "      background-color: #E8F0FE;\n",
              "      border: none;\n",
              "      border-radius: 50%;\n",
              "      cursor: pointer;\n",
              "      display: none;\n",
              "      fill: #1967D2;\n",
              "      height: 32px;\n",
              "      padding: 0 0 0 0;\n",
              "      width: 32px;\n",
              "    }\n",
              "\n",
              "    .colab-df-convert:hover {\n",
              "      background-color: #E2EBFA;\n",
              "      box-shadow: 0px 1px 2px rgba(60, 64, 67, 0.3), 0px 1px 3px 1px rgba(60, 64, 67, 0.15);\n",
              "      fill: #174EA6;\n",
              "    }\n",
              "\n",
              "    .colab-df-buttons div {\n",
              "      margin-bottom: 4px;\n",
              "    }\n",
              "\n",
              "    [theme=dark] .colab-df-convert {\n",
              "      background-color: #3B4455;\n",
              "      fill: #D2E3FC;\n",
              "    }\n",
              "\n",
              "    [theme=dark] .colab-df-convert:hover {\n",
              "      background-color: #434B5C;\n",
              "      box-shadow: 0px 1px 3px 1px rgba(0, 0, 0, 0.15);\n",
              "      filter: drop-shadow(0px 1px 2px rgba(0, 0, 0, 0.3));\n",
              "      fill: #FFFFFF;\n",
              "    }\n",
              "  </style>\n",
              "\n",
              "    <script>\n",
              "      const buttonEl =\n",
              "        document.querySelector('#df-5d627c23-f70d-411c-bf4d-5631e2994f72 button.colab-df-convert');\n",
              "      buttonEl.style.display =\n",
              "        google.colab.kernel.accessAllowed ? 'block' : 'none';\n",
              "\n",
              "      async function convertToInteractive(key) {\n",
              "        const element = document.querySelector('#df-5d627c23-f70d-411c-bf4d-5631e2994f72');\n",
              "        const dataTable =\n",
              "          await google.colab.kernel.invokeFunction('convertToInteractive',\n",
              "                                                    [key], {});\n",
              "        if (!dataTable) return;\n",
              "\n",
              "        const docLinkHtml = 'Like what you see? Visit the ' +\n",
              "          '<a target=\"_blank\" href=https://colab.research.google.com/notebooks/data_table.ipynb>data table notebook</a>'\n",
              "          + ' to learn more about interactive tables.';\n",
              "        element.innerHTML = '';\n",
              "        dataTable['output_type'] = 'display_data';\n",
              "        await google.colab.output.renderOutput(dataTable, element);\n",
              "        const docLink = document.createElement('div');\n",
              "        docLink.innerHTML = docLinkHtml;\n",
              "        element.appendChild(docLink);\n",
              "      }\n",
              "    </script>\n",
              "  </div>\n",
              "\n",
              "\n",
              "<div id=\"df-c1c73d41-4d89-4f8a-ae55-4df57d3fb00c\">\n",
              "  <button class=\"colab-df-quickchart\" onclick=\"quickchart('df-c1c73d41-4d89-4f8a-ae55-4df57d3fb00c')\"\n",
              "            title=\"Suggest charts\"\n",
              "            style=\"display:none;\">\n",
              "\n",
              "<svg xmlns=\"http://www.w3.org/2000/svg\" height=\"24px\"viewBox=\"0 0 24 24\"\n",
              "     width=\"24px\">\n",
              "    <g>\n",
              "        <path d=\"M19 3H5c-1.1 0-2 .9-2 2v14c0 1.1.9 2 2 2h14c1.1 0 2-.9 2-2V5c0-1.1-.9-2-2-2zM9 17H7v-7h2v7zm4 0h-2V7h2v10zm4 0h-2v-4h2v4z\"/>\n",
              "    </g>\n",
              "</svg>\n",
              "  </button>\n",
              "\n",
              "<style>\n",
              "  .colab-df-quickchart {\n",
              "      --bg-color: #E8F0FE;\n",
              "      --fill-color: #1967D2;\n",
              "      --hover-bg-color: #E2EBFA;\n",
              "      --hover-fill-color: #174EA6;\n",
              "      --disabled-fill-color: #AAA;\n",
              "      --disabled-bg-color: #DDD;\n",
              "  }\n",
              "\n",
              "  [theme=dark] .colab-df-quickchart {\n",
              "      --bg-color: #3B4455;\n",
              "      --fill-color: #D2E3FC;\n",
              "      --hover-bg-color: #434B5C;\n",
              "      --hover-fill-color: #FFFFFF;\n",
              "      --disabled-bg-color: #3B4455;\n",
              "      --disabled-fill-color: #666;\n",
              "  }\n",
              "\n",
              "  .colab-df-quickchart {\n",
              "    background-color: var(--bg-color);\n",
              "    border: none;\n",
              "    border-radius: 50%;\n",
              "    cursor: pointer;\n",
              "    display: none;\n",
              "    fill: var(--fill-color);\n",
              "    height: 32px;\n",
              "    padding: 0;\n",
              "    width: 32px;\n",
              "  }\n",
              "\n",
              "  .colab-df-quickchart:hover {\n",
              "    background-color: var(--hover-bg-color);\n",
              "    box-shadow: 0 1px 2px rgba(60, 64, 67, 0.3), 0 1px 3px 1px rgba(60, 64, 67, 0.15);\n",
              "    fill: var(--button-hover-fill-color);\n",
              "  }\n",
              "\n",
              "  .colab-df-quickchart-complete:disabled,\n",
              "  .colab-df-quickchart-complete:disabled:hover {\n",
              "    background-color: var(--disabled-bg-color);\n",
              "    fill: var(--disabled-fill-color);\n",
              "    box-shadow: none;\n",
              "  }\n",
              "\n",
              "  .colab-df-spinner {\n",
              "    border: 2px solid var(--fill-color);\n",
              "    border-color: transparent;\n",
              "    border-bottom-color: var(--fill-color);\n",
              "    animation:\n",
              "      spin 1s steps(1) infinite;\n",
              "  }\n",
              "\n",
              "  @keyframes spin {\n",
              "    0% {\n",
              "      border-color: transparent;\n",
              "      border-bottom-color: var(--fill-color);\n",
              "      border-left-color: var(--fill-color);\n",
              "    }\n",
              "    20% {\n",
              "      border-color: transparent;\n",
              "      border-left-color: var(--fill-color);\n",
              "      border-top-color: var(--fill-color);\n",
              "    }\n",
              "    30% {\n",
              "      border-color: transparent;\n",
              "      border-left-color: var(--fill-color);\n",
              "      border-top-color: var(--fill-color);\n",
              "      border-right-color: var(--fill-color);\n",
              "    }\n",
              "    40% {\n",
              "      border-color: transparent;\n",
              "      border-right-color: var(--fill-color);\n",
              "      border-top-color: var(--fill-color);\n",
              "    }\n",
              "    60% {\n",
              "      border-color: transparent;\n",
              "      border-right-color: var(--fill-color);\n",
              "    }\n",
              "    80% {\n",
              "      border-color: transparent;\n",
              "      border-right-color: var(--fill-color);\n",
              "      border-bottom-color: var(--fill-color);\n",
              "    }\n",
              "    90% {\n",
              "      border-color: transparent;\n",
              "      border-bottom-color: var(--fill-color);\n",
              "    }\n",
              "  }\n",
              "</style>\n",
              "\n",
              "  <script>\n",
              "    async function quickchart(key) {\n",
              "      const quickchartButtonEl =\n",
              "        document.querySelector('#' + key + ' button');\n",
              "      quickchartButtonEl.disabled = true;  // To prevent multiple clicks.\n",
              "      quickchartButtonEl.classList.add('colab-df-spinner');\n",
              "      try {\n",
              "        const charts = await google.colab.kernel.invokeFunction(\n",
              "            'suggestCharts', [key], {});\n",
              "      } catch (error) {\n",
              "        console.error('Error during call to suggestCharts:', error);\n",
              "      }\n",
              "      quickchartButtonEl.classList.remove('colab-df-spinner');\n",
              "      quickchartButtonEl.classList.add('colab-df-quickchart-complete');\n",
              "    }\n",
              "    (() => {\n",
              "      let quickchartButtonEl =\n",
              "        document.querySelector('#df-c1c73d41-4d89-4f8a-ae55-4df57d3fb00c button');\n",
              "      quickchartButtonEl.style.display =\n",
              "        google.colab.kernel.accessAllowed ? 'block' : 'none';\n",
              "    })();\n",
              "  </script>\n",
              "</div>\n",
              "    </div>\n",
              "  </div>\n"
            ],
            "application/vnd.google.colaboratory.intrinsic+json": {
              "type": "dataframe"
            }
          },
          "metadata": {},
          "execution_count": 4
        }
      ]
    },
    {
      "cell_type": "code",
      "source": [
        "# 3.1\n",
        "# Định nghĩa lưới tham số cho SVM\n",
        "param_grid_svm = {'C': [0.1, 1, 10, 100, 1000],\n",
        "                  'gamma': [1, 0.1, 0.01, 0.001, 0.0001],\n",
        "                  'kernel': ['rbf', 'linear', 'poly'],\n",
        "                  'degree': [2, 3]}\n",
        "\n",
        "# Định nghĩa lưới tham số cho kNN\n",
        "param_grid_knn = {'n_neighbors': [5, 7, 9, 11, 13, 15],\n",
        "                  'weights': ['uniform', 'distance'],\n",
        "                  'metric': ['minkowski', 'euclidean', 'manhattan']}\n",
        "\n",
        "# Định nghĩa lưới tham số cho RandomForest\n",
        "param_grid_rf = {\n",
        "    'n_estimators': [25, 50, 100, 150],\n",
        "    'max_features': ['sqrt', 'log2', None],\n",
        "    'max_depth': [3, 6, 9],\n",
        "    'max_leaf_nodes': [3, 6, 9],\n",
        "}\n",
        "\n",
        "# Tạo mô hình và khởi tạo GridSearchCV cho SVM, kNN và RandomForest\n",
        "svm_model = SVC()\n",
        "knn_model = KNeighborsClassifier()\n",
        "rf_model = RandomForestClassifier()\n",
        "\n",
        "grid_search_svm = GridSearchCV(estimator=svm_model, param_grid=param_grid_svm, cv=3)\n",
        "grid_search_knn = GridSearchCV(estimator=knn_model, param_grid=param_grid_knn, cv=3)\n",
        "grid_search_rf = GridSearchCV(estimator=rf_model, param_grid=param_grid_rf, cv=3)\n",
        "\n",
        "# Huấn luyện GridSearchCV trên tập huấn luyện\n",
        "grid_search_svm.fit(X_train, y_train)\n",
        "grid_search_knn.fit(X_train, y_train)\n",
        "grid_search_rf.fit(X_train, y_train)\n",
        "\n",
        "# In ra các hyperparameters tốt nhất và điểm số tốt nhất\n",
        "print(\"SVM - Hyperparameters tốt nhất:\", grid_search_svm.best_params_)\n",
        "print(\"SVM - Điểm số tốt nhất:\", grid_search_svm.best_score_)\n",
        "\n",
        "print(\"\\nkNN - Hyperparameters tốt nhất:\", grid_search_knn.best_params_)\n",
        "print(\"kNN - Điểm số tốt nhất:\", grid_search_knn.best_score_)\n",
        "\n",
        "print(\"\\nRandom Forest - Hyperparameters tốt nhất:\", grid_search_rf.best_params_)\n",
        "print(\"Random Forest - Điểm số tốt nhất:\", grid_search_rf.best_score_)\n"
      ],
      "metadata": {
        "id": "_jsYpiNYWxXK",
        "colab": {
          "base_uri": "https://localhost:8080/"
        },
        "outputId": "65ce14cc-c870-475f-eb72-0920a462763a"
      },
      "execution_count": null,
      "outputs": [
        {
          "output_type": "stream",
          "name": "stdout",
          "text": [
            "SVM - Hyperparameters tốt nhất: {'C': 0.1, 'degree': 2, 'gamma': 1, 'kernel': 'linear'}\n",
            "SVM - Điểm số tốt nhất: 0.9674972419559978\n",
            "\n",
            "kNN - Hyperparameters tốt nhất: {'metric': 'manhattan', 'n_neighbors': 13, 'weights': 'distance'}\n",
            "kNN - Điểm số tốt nhất: 0.9306237746906424\n",
            "\n",
            "Random Forest - Hyperparameters tốt nhất: {'max_depth': 9, 'max_features': 'log2', 'max_leaf_nodes': 9, 'n_estimators': 150}\n",
            "Random Forest - Điểm số tốt nhất: 0.8281112024603393\n"
          ]
        }
      ]
    },
    {
      "cell_type": "code",
      "source": [
        "# 3.2\n",
        "# Tạo bảng\n",
        "table = PrettyTable()\n",
        "\n",
        "# Thêm cột\n",
        "table.field_names = [\"Thuật toán\", \"Điểm số tốt nhất\"]\n",
        "\n",
        "# Thêm dữ liệu\n",
        "table.add_row([\"SVM\", grid_search_svm.best_score_])\n",
        "table.add_row([\"kNN\", grid_search_knn.best_score_])\n",
        "table.add_row([\"Random Forest\", grid_search_rf.best_score_])\n",
        "\n",
        "# In ra bảng\n",
        "print(table)"
      ],
      "metadata": {
        "colab": {
          "base_uri": "https://localhost:8080/"
        },
        "id": "PD_cRZmGOQO0",
        "outputId": "4e32ab2f-94a5-4de9-b59c-a608d12e6586"
      },
      "execution_count": null,
      "outputs": [
        {
          "output_type": "stream",
          "name": "stdout",
          "text": [
            "+---------------+--------------------+\n",
            "|   Thuật toán  |  Điểm số tốt nhất  |\n",
            "+---------------+--------------------+\n",
            "|      SVM      | 0.9674972419559978 |\n",
            "|      kNN      | 0.9306237746906424 |\n",
            "| Random Forest | 0.8281112024603393 |\n",
            "+---------------+--------------------+\n"
          ]
        }
      ]
    },
    {
      "cell_type": "markdown",
      "source": [
        "#Task 4.\n",
        "The dataset consists of **2000 user-created movie reviews** archived on the IMDb(Internet Movie Database). The reviews are equally partitioned into a positive set and a negative set (1000+1000). Each review consists of a plain text file (.txt) and a class label representing the overall user opinion.\n",
        "The class attribute has only two values: **pos** (positive) or **neg** (negative).\n"
      ],
      "metadata": {
        "id": "b52OPWPD2afi"
      }
    },
    {
      "cell_type": "markdown",
      "source": [
        "*   4.1 Importing additional libraries"
      ],
      "metadata": {
        "id": "lDcxOQRmDz_h"
      }
    },
    {
      "cell_type": "code",
      "source": [
        "import nltk, random\n",
        "nltk.download('movie_reviews')#download movie reviews dataset\n",
        "from nltk.corpus import movie_reviews\n",
        "import pandas as pd\n",
        "import matplotlib.pyplot as plt\n",
        "import numpy as np\n",
        "from sklearn.model_selection import cross_val_score\n",
        "from collections import Counter\n",
        "from sklearn.model_selection import train_test_split"
      ],
      "metadata": {
        "id": "ZjyW06skDwvL",
        "colab": {
          "base_uri": "https://localhost:8080/"
        },
        "outputId": "ee9130aa-c974-447f-8518-93c6d978427d"
      },
      "execution_count": 5,
      "outputs": [
        {
          "output_type": "stream",
          "name": "stderr",
          "text": [
            "[nltk_data] Downloading package movie_reviews to /root/nltk_data...\n",
            "[nltk_data]   Unzipping corpora/movie_reviews.zip.\n"
          ]
        }
      ]
    },
    {
      "cell_type": "markdown",
      "source": [
        "*   4.2. Movie reviews information"
      ],
      "metadata": {
        "id": "RJpsTIiyv-1h"
      }
    },
    {
      "cell_type": "code",
      "source": [
        "#code\n",
        "print(len(movie_reviews.fileids()))\n",
        "print(movie_reviews.categories())\n",
        "print(movie_reviews.words()[:100])\n",
        "print(movie_reviews.fileids()[:10])"
      ],
      "metadata": {
        "id": "5ZE7A0Au1Pg0",
        "colab": {
          "base_uri": "https://localhost:8080/"
        },
        "outputId": "087dbfd1-053c-4200-f340-99a2f988aae4"
      },
      "execution_count": 6,
      "outputs": [
        {
          "output_type": "stream",
          "name": "stdout",
          "text": [
            "2000\n",
            "['neg', 'pos']\n",
            "['plot', ':', 'two', 'teen', 'couples', 'go', 'to', ...]\n",
            "['neg/cv000_29416.txt', 'neg/cv001_19502.txt', 'neg/cv002_17424.txt', 'neg/cv003_12683.txt', 'neg/cv004_12641.txt', 'neg/cv005_29357.txt', 'neg/cv006_17022.txt', 'neg/cv007_4992.txt', 'neg/cv008_29326.txt', 'neg/cv009_29417.txt']\n"
          ]
        }
      ]
    },
    {
      "cell_type": "markdown",
      "source": [
        "*   4.3. Create dataset from movie reviews"
      ],
      "metadata": {
        "id": "6pHmMpqMHS23"
      }
    },
    {
      "cell_type": "code",
      "source": [
        "documents = [(list(movie_reviews.words(fileid)), category)\n",
        "             for category in movie_reviews.categories()\n",
        "             for fileid in movie_reviews.fileids(category)]\n",
        "random.seed(123)\n",
        "random.shuffle(documents)"
      ],
      "metadata": {
        "id": "45aY6woMHSH5"
      },
      "execution_count": 7,
      "outputs": []
    },
    {
      "cell_type": "code",
      "source": [
        "print('Number of Reviews/Documents: {}'.format(len(documents)))\n",
        "print('Corpus Size (words): {}'.format(np.sum([len(d) for (d,l) in documents])))\n",
        "print('Sample Text of Doc 1:')\n",
        "print('-'*30)\n",
        "print(' '.join(documents[0][0][:50])) # first 50 words of the first document"
      ],
      "metadata": {
        "id": "NNke0Da5HqFa",
        "colab": {
          "base_uri": "https://localhost:8080/"
        },
        "outputId": "610cb68e-fd50-4ec4-b3b4-7616e4fed025"
      },
      "execution_count": 8,
      "outputs": [
        {
          "output_type": "stream",
          "name": "stdout",
          "text": [
            "Number of Reviews/Documents: 2000\n",
            "Corpus Size (words): 1583820\n",
            "Sample Text of Doc 1:\n",
            "------------------------------\n",
            "most movies seem to release a third movie just so it can be called a trilogy . rocky iii seems to kind of fit in that category , but manages to be slightly unique . the rocky formula of \" rocky loses fight / rocky trains / rocky wins fight\n"
          ]
        }
      ]
    },
    {
      "cell_type": "code",
      "source": [
        "sentiment_distr = Counter([label for (words, label) in documents])\n",
        "print(sentiment_distr)"
      ],
      "metadata": {
        "id": "vVFUEhnXHsGd",
        "colab": {
          "base_uri": "https://localhost:8080/"
        },
        "outputId": "9905250e-22bc-4731-8dc5-2b962dbb6563"
      },
      "execution_count": 9,
      "outputs": [
        {
          "output_type": "stream",
          "name": "stdout",
          "text": [
            "Counter({'pos': 1000, 'neg': 1000})\n"
          ]
        }
      ]
    },
    {
      "cell_type": "markdown",
      "source": [
        "*   4.4. Train test split"
      ],
      "metadata": {
        "id": "jTXiEbMzHgVC"
      }
    },
    {
      "cell_type": "code",
      "source": [
        "train, test = train_test_split(documents, test_size = 0.33, random_state=42)"
      ],
      "metadata": {
        "id": "v_-0gZZFHvJN"
      },
      "execution_count": 10,
      "outputs": []
    },
    {
      "cell_type": "code",
      "source": [
        "## Sentiment Distrubtion for Train and Test\n",
        "print(Counter([label for (words, label) in train]))\n",
        "print(Counter([label for (words, label) in test]))"
      ],
      "metadata": {
        "id": "UUGlm5TGHvpV",
        "colab": {
          "base_uri": "https://localhost:8080/"
        },
        "outputId": "7280aa76-35b3-4c7b-a0b6-aef0adb25f4b"
      },
      "execution_count": 11,
      "outputs": [
        {
          "output_type": "stream",
          "name": "stdout",
          "text": [
            "Counter({'neg': 674, 'pos': 666})\n",
            "Counter({'pos': 334, 'neg': 326})\n"
          ]
        }
      ]
    },
    {
      "cell_type": "code",
      "source": [
        "X_train = [' '.join(words) for (words, label) in train]\n",
        "X_test = [' '.join(words) for (words, label) in test]\n",
        "y_train = [label for (words, label) in train]\n",
        "y_test = [label for (words, label) in test]"
      ],
      "metadata": {
        "id": "l1ppl_0RHx1P"
      },
      "execution_count": 12,
      "outputs": []
    },
    {
      "cell_type": "markdown",
      "source": [
        "*   4.5. Text Vectorization"
      ],
      "metadata": {
        "id": "7xUaXrjxH6Ee"
      }
    },
    {
      "cell_type": "code",
      "source": [
        "from sklearn.feature_extraction.text import CountVectorizer, TfidfVectorizer\n",
        "\n",
        "tfidf_vec = TfidfVectorizer(min_df = 10, token_pattern = r'[a-zA-Z]+')\n",
        "X_train_bow = tfidf_vec.fit_transform(X_train) # fit train\n",
        "X_test_bow = tfidf_vec.transform(X_test) # transform test"
      ],
      "metadata": {
        "id": "fzwM0nsIH-8l"
      },
      "execution_count": 13,
      "outputs": []
    },
    {
      "cell_type": "markdown",
      "source": [
        "*   4.6. Apply **SVM** with **GridSearchCV**"
      ],
      "metadata": {
        "id": "BP1vB3loIF28"
      }
    },
    {
      "cell_type": "code",
      "source": [
        "# Định nghĩa lưới tham số\n",
        "param_grid_svm = {'C': [0.1, 1, 10, 100, 1000],\n",
        "                  'gamma': [1, 0.1, 0.01, 0.001, 0.0001],\n",
        "                  'kernel': ['rbf', 'linear', 'poly'],\n",
        "                  'degree': [2, 3]}\n",
        "\n",
        "# Tạo mô hình SVM\n",
        "svm_model = SVC()\n",
        "\n",
        "# Khởi tạo GridSearchCV\n",
        "grid_search_svm = GridSearchCV(estimator=svm_model, param_grid=param_grid_svm, cv=3)\n",
        "\n",
        "# Huấn luyện GridSearchCV\n",
        "grid_search_svm.fit(X_train_bow, y_train)\n",
        "\n",
        "# In ra các hyperparameters tốt nhất và điểm số tốt nhất\n",
        "print(\"Hyperparameters tốt nhất cho SVM:\", grid_search_svm.best_params_)\n",
        "print(\"Điểm số tốt nhất cho SVM:\", grid_search_svm.best_score_)"
      ],
      "metadata": {
        "id": "b3FHQqh1Hlrd",
        "colab": {
          "base_uri": "https://localhost:8080/"
        },
        "outputId": "84943610-4b77-4159-99ff-b2540089fb8c"
      },
      "execution_count": 14,
      "outputs": [
        {
          "output_type": "stream",
          "name": "stdout",
          "text": [
            "Hyperparameters tốt nhất cho SVM: {'C': 10, 'degree': 2, 'gamma': 1, 'kernel': 'poly'}\n",
            "Điểm số tốt nhất cho SVM: 0.8373126941610404\n"
          ]
        }
      ]
    },
    {
      "cell_type": "markdown",
      "source": [
        "*   4.7. Apply **RandomForest** with **GridSearchCV**"
      ],
      "metadata": {
        "id": "N1Fy8jYBIdxi"
      }
    },
    {
      "cell_type": "code",
      "source": [
        "# Định nghĩa lưới tham số\n",
        "param_grid_rf = {\n",
        "    'n_estimators': [25, 50, 100, 150],\n",
        "    'max_features': ['sqrt', 'log2', None],\n",
        "    'max_depth': [3, 6, 9],\n",
        "    'max_leaf_nodes': [3, 6, 9]\n",
        "}\n",
        "\n",
        "# Tạo mô hình RandomForest\n",
        "rf_model = RandomForestClassifier()\n",
        "\n",
        "# Khởi tạo GridSearchCV\n",
        "grid_search_rf = GridSearchCV(estimator=rf_model, param_grid=param_grid_rf, cv=3)\n",
        "\n",
        "# Huấn luyện GridSearchCV\n",
        "grid_search_rf.fit(X_train_bow, y_train)\n",
        "\n",
        "# In ra các hyperparameters tốt nhất và điểm số tốt nhất\n",
        "print(\"Hyperparameters tốt nhất cho RandomForest:\", grid_search_rf.best_params_)\n",
        "print(\"Điểm số tốt nhất cho RandomForest:\", grid_search_rf.best_score_)"
      ],
      "metadata": {
        "id": "Fyfw2R-gIhWl",
        "colab": {
          "base_uri": "https://localhost:8080/"
        },
        "outputId": "599da0de-9c26-4adb-9f5a-ea68ad8eddd3"
      },
      "execution_count": null,
      "outputs": [
        {
          "output_type": "stream",
          "name": "stdout",
          "text": [
            "Hyperparameters tốt nhất cho RandomForest: {'max_depth': 6, 'max_features': 'sqrt', 'max_leaf_nodes': 9, 'n_estimators': 150}\n",
            "Điểm số tốt nhất cho RandomForest: 0.791760716686229\n"
          ]
        }
      ]
    },
    {
      "cell_type": "markdown",
      "source": [
        "*   4.8. Apply **kNN** with **GridSearchCV**"
      ],
      "metadata": {
        "id": "_btsVKjIIiLT"
      }
    },
    {
      "cell_type": "code",
      "source": [
        "# Định nghĩa lưới tham số\n",
        "param_grid_knn = {\n",
        "    'n_neighbors': [5, 7, 9, 11, 13, 15],\n",
        "    'weights': ['uniform', 'distance'],\n",
        "    'metric': ['minkowski', 'euclidean', 'manhattan']\n",
        "}\n",
        "\n",
        "# Tạo mô hình kNN\n",
        "knn_model = KNeighborsClassifier()\n",
        "\n",
        "# Khởi tạo GridSearchCV\n",
        "grid_search_knn = GridSearchCV(estimator=knn_model, param_grid=param_grid_knn, cv=3)\n",
        "\n",
        "# Huấn luyện GridSearchCV\n",
        "grid_search_knn.fit(X_train_bow, y_train)\n",
        "\n",
        "# In ra các hyperparameters tốt nhất và điểm số tốt nhất\n",
        "print(\"Hyperparameters tốt nhất cho kNN:\", grid_search_knn.best_params_)\n",
        "print(\"Điểm số tốt nhất cho kNN:\", grid_search_knn.best_score_)"
      ],
      "metadata": {
        "id": "IZmFu1ZQImhn",
        "colab": {
          "base_uri": "https://localhost:8080/"
        },
        "outputId": "8dd1b04c-e38c-4c43-e53d-b88cd01c4ad4"
      },
      "execution_count": null,
      "outputs": [
        {
          "output_type": "stream",
          "name": "stdout",
          "text": [
            "Hyperparameters tốt nhất cho kNN: {'metric': 'manhattan', 'n_neighbors': 15, 'weights': 'distance'}\n",
            "Điểm số tốt nhất cho kNN: 0.6492460950431878\n"
          ]
        }
      ]
    },
    {
      "cell_type": "markdown",
      "source": [
        "*   4.9. Apply **LogisticRegression** with **GridSearchCV**"
      ],
      "metadata": {
        "id": "0Ix_HeVGIvDu"
      }
    },
    {
      "cell_type": "code",
      "source": [
        "# Định nghĩa lưới tham số\n",
        "param_grid_lr = {\n",
        "    'C': [0.1, 1, 10, 100, 1000],\n",
        "    'penalty': ['l1', 'l2']\n",
        "}\n",
        "\n",
        "# Tạo mô hình Logistic Regression\n",
        "lr_model = LogisticRegression()\n",
        "\n",
        "# Khởi tạo GridSearchCV\n",
        "grid_search_lr = GridSearchCV(estimator=lr_model, param_grid=param_grid_lr, cv=3)\n",
        "\n",
        "# Huấn luyện GridSearchCV\n",
        "grid_search_lr.fit(X_train_bow, y_train)\n",
        "\n",
        "# In ra các hyperparameters tốt nhất và điểm số tốt nhất\n",
        "print(\"Hyperparameters tốt nhất cho Logistic Regression:\", grid_search_lr.best_params_)\n",
        "print(\"Điểm số tốt nhất cho Logistic Regression:\", grid_search_lr.best_score_)"
      ],
      "metadata": {
        "id": "sTd3alCMIr-i",
        "colab": {
          "base_uri": "https://localhost:8080/"
        },
        "outputId": "f1d48b6b-c9fd-41bb-ec0b-eaed6bd55642"
      },
      "execution_count": null,
      "outputs": [
        {
          "output_type": "stream",
          "name": "stderr",
          "text": [
            "/usr/local/lib/python3.10/dist-packages/sklearn/linear_model/_logistic.py:458: ConvergenceWarning: lbfgs failed to converge (status=1):\n",
            "STOP: TOTAL NO. of ITERATIONS REACHED LIMIT.\n",
            "\n",
            "Increase the number of iterations (max_iter) or scale the data as shown in:\n",
            "    https://scikit-learn.org/stable/modules/preprocessing.html\n",
            "Please also refer to the documentation for alternative solver options:\n",
            "    https://scikit-learn.org/stable/modules/linear_model.html#logistic-regression\n",
            "  n_iter_i = _check_optimize_result(\n",
            "/usr/local/lib/python3.10/dist-packages/sklearn/linear_model/_logistic.py:458: ConvergenceWarning: lbfgs failed to converge (status=1):\n",
            "STOP: TOTAL NO. of ITERATIONS REACHED LIMIT.\n",
            "\n",
            "Increase the number of iterations (max_iter) or scale the data as shown in:\n",
            "    https://scikit-learn.org/stable/modules/preprocessing.html\n",
            "Please also refer to the documentation for alternative solver options:\n",
            "    https://scikit-learn.org/stable/modules/linear_model.html#logistic-regression\n",
            "  n_iter_i = _check_optimize_result(\n",
            "/usr/local/lib/python3.10/dist-packages/sklearn/model_selection/_validation.py:378: FitFailedWarning: \n",
            "15 fits failed out of a total of 30.\n",
            "The score on these train-test partitions for these parameters will be set to nan.\n",
            "If these failures are not expected, you can try to debug them by setting error_score='raise'.\n",
            "\n",
            "Below are more details about the failures:\n",
            "--------------------------------------------------------------------------------\n",
            "15 fits failed with the following error:\n",
            "Traceback (most recent call last):\n",
            "  File \"/usr/local/lib/python3.10/dist-packages/sklearn/model_selection/_validation.py\", line 686, in _fit_and_score\n",
            "    estimator.fit(X_train, y_train, **fit_params)\n",
            "  File \"/usr/local/lib/python3.10/dist-packages/sklearn/linear_model/_logistic.py\", line 1162, in fit\n",
            "    solver = _check_solver(self.solver, self.penalty, self.dual)\n",
            "  File \"/usr/local/lib/python3.10/dist-packages/sklearn/linear_model/_logistic.py\", line 54, in _check_solver\n",
            "    raise ValueError(\n",
            "ValueError: Solver lbfgs supports only 'l2' or 'none' penalties, got l1 penalty.\n",
            "\n",
            "  warnings.warn(some_fits_failed_message, FitFailedWarning)\n",
            "/usr/local/lib/python3.10/dist-packages/sklearn/model_selection/_search.py:952: UserWarning: One or more of the test scores are non-finite: [       nan 0.76118819        nan 0.8022358         nan 0.83283006\n",
            "        nan 0.82835913        nan 0.83059794]\n",
            "  warnings.warn(\n"
          ]
        },
        {
          "output_type": "stream",
          "name": "stdout",
          "text": [
            "Hyperparameters tốt nhất cho Logistic Regression: {'C': 10, 'penalty': 'l2'}\n",
            "Điểm số tốt nhất cho Logistic Regression: 0.8328300612286528\n"
          ]
        }
      ]
    },
    {
      "cell_type": "markdown",
      "source": [
        "*   4.10. Compare the best obtained results among classification algorithms (use PrettyTable to dispaly the results)"
      ],
      "metadata": {
        "id": "nhYF2y6eI058"
      }
    },
    {
      "cell_type": "code",
      "source": [
        "# Tạo bảng\n",
        "table = PrettyTable()\n",
        "\n",
        "# Thêm các cột\n",
        "table.field_names = [\"Algorithm\", \"Best Hyperparameters\", \"Best Score\"]\n",
        "\n",
        "# Thêm dữ liệu cho từng thuật toán\n",
        "table.add_row([\"SVM\", grid_search_svm.best_params_, grid_search_svm.best_score_])\n",
        "table.add_row([\"kNN\", grid_search_knn.best_params_, grid_search_knn.best_score_])\n",
        "table.add_row([\"RandomForest\", grid_search_rf.best_params_, grid_search_rf.best_score_])\n",
        "table.add_row([\"LogisticRegression\", grid_search_lr.best_params_, grid_search_lr.best_score_])\n",
        "\n",
        "# In ra bảng\n",
        "print(table)"
      ],
      "metadata": {
        "colab": {
          "base_uri": "https://localhost:8080/"
        },
        "id": "Z3aiJ2B8Zx3L",
        "outputId": "3233439b-2ed4-41c1-d0b0-7d5c9878b4e8"
      },
      "execution_count": null,
      "outputs": [
        {
          "output_type": "stream",
          "name": "stdout",
          "text": [
            "+--------------------+------------------------------------------------------------------------------------+--------------------+\n",
            "|     Algorithm      |                                Best Hyperparameters                                |     Best Score     |\n",
            "+--------------------+------------------------------------------------------------------------------------+--------------------+\n",
            "|        SVM         |                {'C': 10, 'degree': 2, 'gamma': 1, 'kernel': 'poly'}                | 0.8373126941610404 |\n",
            "|        kNN         |         {'metric': 'manhattan', 'n_neighbors': 15, 'weights': 'distance'}          | 0.6492460950431878 |\n",
            "|    RandomForest    | {'max_depth': 6, 'max_features': 'sqrt', 'max_leaf_nodes': 9, 'n_estimators': 150} | 0.791760716686229  |\n",
            "| LogisticRegression |                             {'C': 10, 'penalty': 'l2'}                             | 0.8328300612286528 |\n",
            "+--------------------+------------------------------------------------------------------------------------+--------------------+\n"
          ]
        }
      ]
    },
    {
      "cell_type": "markdown",
      "source": [
        "#Finally,\n",
        "Save a copy in your Github. Remember renaming the notebook."
      ],
      "metadata": {
        "id": "Ok7RGkea_b7n"
      }
    }
  ]
}