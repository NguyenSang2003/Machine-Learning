{
  "nbformat": 4,
  "nbformat_minor": 0,
  "metadata": {
    "colab": {
      "provenance": [],
      "include_colab_link": true
    },
    "kernelspec": {
      "name": "python3",
      "display_name": "Python 3"
    },
    "language_info": {
      "name": "python"
    }
  },
  "cells": [
    {
      "cell_type": "markdown",
      "metadata": {
        "id": "view-in-github",
        "colab_type": "text"
      },
      "source": [
        "<a href=\"https://colab.research.google.com/github/NguyenSang2003/Machine-Learning/blob/main/Lab_4_21130512_NguyenVanSang.ipynb\" target=\"_parent\"><img src=\"https://colab.research.google.com/assets/colab-badge.svg\" alt=\"Open In Colab\"/></a>"
      ]
    },
    {
      "cell_type": "markdown",
      "source": [
        "# This lab is to deal with **Logistic Regression**, **kNN**, and **Decision Tree** alogirthms applied to classification tasks.\n",
        "\n",
        "*   **Deadline: 23:59, 01/04/2024**\n",
        "\n"
      ],
      "metadata": {
        "id": "LMzehe0sy5wr"
      }
    },
    {
      "cell_type": "markdown",
      "source": [
        "# Import libraries"
      ],
      "metadata": {
        "id": "H4nJmxp9zGX4"
      }
    },
    {
      "cell_type": "code",
      "execution_count": 23,
      "metadata": {
        "id": "DoVWQ8AEyc-C"
      },
      "outputs": [],
      "source": [
        "# code\n",
        "import numpy as np\n",
        "import pandas as pd\n",
        "import matplotlib.pyplot as plt\n",
        "from sklearn.impute import SimpleImputer\n",
        "from sklearn import preprocessing\n",
        "from sklearn.preprocessing import StandardScaler\n",
        "from sklearn.model_selection import train_test_split\n",
        "from sklearn.linear_model import LinearRegression,LogisticRegression\n",
        "from sklearn.neighbors import KNeighborsClassifier\n",
        "from sklearn import metrics\n",
        "from sklearn.metrics import accuracy_score, precision_score, recall_score, f1_score\n",
        "from prettytable import PrettyTable\n",
        "from sklearn.tree import DecisionTreeClassifier"
      ]
    },
    {
      "cell_type": "markdown",
      "source": [
        "#Task 1.\n",
        "Apply **LogisticRegression** to iris dataset to classify species of iris based on sepal_length (chiều dài đài hoa), sepal_width, petal_length (chiều dài cánh hoa), petal_width. The species are '**setosa**' '**versicolor**' and '**virginica**'.\n",
        "\n",
        "\n",
        "\n",
        "```\n",
        "from sklearn import datasets\n",
        "data1 = datasets.load_iris()\n",
        "```\n",
        "\n",
        "\n"
      ],
      "metadata": {
        "id": "kNv07ARGzOUm"
      }
    },
    {
      "cell_type": "code",
      "source": [
        "from sklearn import datasets\n",
        "# Tải tập dữ liệu iris\n",
        "data = datasets.load_iris()\n",
        "X = data.data\n",
        "y = data.target\n",
        "\n",
        "# Chia tập dữ liệu thành tập huấn luyện và tập kiểm tra\n",
        "X_train, X_test, y_train, y_test = train_test_split(X, y, test_size=0.2, random_state=42)\n",
        "\n",
        "# Tạo và huấn luyện mô hình Logistic Regression\n",
        "classifier = LogisticRegression(max_iter=1000, random_state=0)\n",
        "classifier.fit(X_train, y_train)\n",
        "\n",
        "# Kiểm tra mô hình\n",
        "y_pred = classifier.predict(X_test)\n",
        "\n",
        "# Tính độ chính xác\n",
        "accuracy = (y_pred == y_test).mean()\n",
        "print(\"Độ chính xác:\", accuracy)"
      ],
      "metadata": {
        "colab": {
          "base_uri": "https://localhost:8080/"
        },
        "id": "6yBZ_5L6aFYm",
        "outputId": "bee52dee-aac4-4121-e365-f3abb8fca0a7"
      },
      "execution_count": null,
      "outputs": [
        {
          "output_type": "stream",
          "name": "stdout",
          "text": [
            "Độ chính xác: 1.0\n"
          ]
        }
      ]
    },
    {
      "cell_type": "markdown",
      "source": [
        "#Task 2.\n",
        "Apply LogisticRegression to **FASHION** dataset (*fashion_train.csv* and *fashion_test.csv*) which aims at classifying 10 fashion categories. Dataset includes 784 pixels values of images (28x28). This pixel-value is an integer between 0 and 255. Each training and test example is assigned to one of the following labels:\n",
        "\n",
        "*   0 T-shirt/top\n",
        "*   1 Trouser\n",
        "*   2 Pullover\n",
        "*   3 Dress\n",
        "*   4 Coat\n",
        "*   5 Sandal\n",
        "*   6 Shirt\n",
        "*   7 Sneaker\n",
        "*   8 Bag\n",
        "*   9 Ankle boot"
      ],
      "metadata": {
        "id": "S43IoUT-0OQq"
      }
    },
    {
      "cell_type": "code",
      "source": [
        "from google.colab import drive\n",
        "drive.mount('/content/gdrive')\n",
        "%cd '/content/gdrive/MyDrive/Data_Labs_ML/Lab4'"
      ],
      "metadata": {
        "id": "cFPcwg9gAcmq",
        "colab": {
          "base_uri": "https://localhost:8080/"
        },
        "outputId": "cfb9c448-dcc1-42b3-947a-c4db592944d9"
      },
      "execution_count": 2,
      "outputs": [
        {
          "output_type": "stream",
          "name": "stdout",
          "text": [
            "Mounted at /content/gdrive\n",
            "/content/gdrive/MyDrive/Data_Labs_ML/Lab4\n"
          ]
        }
      ]
    },
    {
      "cell_type": "code",
      "source": [
        "# Đọc dữ liệu từ tập train và test\n",
        "train_data = pd.read_csv(\"fashion_train.csv\")\n",
        "test_data = pd.read_csv(\"fashion_test.csv\")\n",
        "\n",
        "# In ra tên của tất cả các cột trong tập dữ liệu train và test\n",
        "# Để biết được cột nhãn là cột y\n",
        "print(\"Tên các cột trong tập dữ liệu train:\")\n",
        "print(train_data.columns)\n",
        "\n",
        "print(\"\\nTên các cột trong tập dữ liệu test:\")\n",
        "print(test_data.columns)\n"
      ],
      "metadata": {
        "colab": {
          "base_uri": "https://localhost:8080/"
        },
        "id": "NTXH68YHb0qP",
        "outputId": "71399f8b-705c-4efb-d282-b57c3e2eacd8"
      },
      "execution_count": 3,
      "outputs": [
        {
          "output_type": "stream",
          "name": "stdout",
          "text": [
            "Tên các cột trong tập dữ liệu train:\n",
            "Index(['V1', 'V2', 'V3', 'V4', 'V5', 'V6', 'V7', 'V8', 'V9', 'V10',\n",
            "       ...\n",
            "       'V776', 'V777', 'V778', 'V779', 'V780', 'V781', 'V782', 'V783', 'V784',\n",
            "       'y'],\n",
            "      dtype='object', length=785)\n",
            "\n",
            "Tên các cột trong tập dữ liệu test:\n",
            "Index(['V1', 'V2', 'V3', 'V4', 'V5', 'V6', 'V7', 'V8', 'V9', 'V10',\n",
            "       ...\n",
            "       'V776', 'V777', 'V778', 'V779', 'V780', 'V781', 'V782', 'V783', 'V784',\n",
            "       'y'],\n",
            "      dtype='object', length=785)\n"
          ]
        }
      ]
    },
    {
      "cell_type": "code",
      "source": [
        "# Tách đặc trưng và nhãn từ tập dữ liệu train\n",
        "X_train = train_data.drop('y', axis=1)\n",
        "y_train = train_data['y']\n",
        "\n",
        "# Tách đặc trưng và nhãn từ tập dữ liệu test\n",
        "X_test = test_data.drop('y', axis=1)\n",
        "y_test = test_data['y']\n",
        "\n",
        "# Tạo và huấn luyện mô hình Logistic Regression\n",
        "classifier = LogisticRegression(max_iter=1000, random_state=0)\n",
        "classifier.fit(X_train, y_train)\n",
        "\n",
        "# Dự đoán nhãn cho dữ liệu kiểm tra\n",
        "y_pred = classifier.predict(X_test)\n",
        "\n",
        "# Đánh giá độ chính xác của mô hình\n",
        "accuracy = accuracy_score(y_test, y_pred)\n",
        "print(\"Độ chính xác của mô hình Logistic Regression trên tập kiểm tra:\", accuracy)"
      ],
      "metadata": {
        "colab": {
          "base_uri": "https://localhost:8080/"
        },
        "id": "N_xQbYzDdQIO",
        "outputId": "bdd6d2d9-77c2-4e4f-91ec-e3ea5f241158"
      },
      "execution_count": 6,
      "outputs": [
        {
          "output_type": "stream",
          "name": "stdout",
          "text": [
            "Độ chính xác của mô hình Logistic Regression trên tập kiểm tra: 0.783\n"
          ]
        }
      ]
    },
    {
      "cell_type": "markdown",
      "source": [
        "#Task 3.\n",
        "Apply another classification algorithm named **kNN**, which is an instance classifcation model.\n",
        "*  3.1. Perform kNN algorithm to Iris dataset with k={3, 5, …, 29}. Select the best value of k. Plot the values of **accuracy, precision, recall, f1 measure** metrics with different values of k.\n",
        "\n",
        "*   3.2. Then compare the obtained results with those using Logistic regression (based on metrics: **accuracy, precision, recall, f1 measure**) using **PrettyTable**.\n"
      ],
      "metadata": {
        "id": "Rti2y0Wz2KY9"
      }
    },
    {
      "cell_type": "code",
      "source": [
        "# Khởi tạo danh sách lưu các giá trị k và các metric tương ứng\n",
        "k_values = list(range(3, 30, 2))\n",
        "accuracies = []\n",
        "precisions = []\n",
        "recalls = []\n",
        "f1_scores = []\n",
        "\n",
        "# Lặp qua các giá trị k\n",
        "for k in k_values:\n",
        "    # Tạo và huấn luyện mô hình kNN\n",
        "    knn_model = KNeighborsClassifier(n_neighbors=k)\n",
        "    knn_model.fit(X_train, y_train)\n",
        "\n",
        "    # Dự đoán nhãn cho dữ liệu kiểm tra\n",
        "    y_pred = knn_model.predict(X_test)\n",
        "\n",
        "    # Tính toán các metric\n",
        "    accuracy = accuracy_score(y_test, y_pred)\n",
        "    precision = precision_score(y_test, y_pred, average='weighted')\n",
        "    recall = recall_score(y_test, y_pred, average='weighted')\n",
        "    f1 = f1_score(y_test, y_pred, average='weighted')\n",
        "\n",
        "    # Lưu các metric vào danh sách\n",
        "    accuracies.append(accuracy)\n",
        "    precisions.append(precision)\n",
        "    recalls.append(recall)\n",
        "    f1_scores.append(f1)\n",
        "\n",
        "# Vẽ đồ thị các metric theo giá trị k\n",
        "plt.plot(k_values, accuracies, label='Accuracy')\n",
        "plt.plot(k_values, precisions, label='Precision')\n",
        "plt.plot(k_values, recalls, label='Recall')\n",
        "plt.plot(k_values, f1_scores, label='F1 Score')\n",
        "plt.xlabel('k')\n",
        "plt.ylabel('Metric Value')\n",
        "plt.title('Performance Metrics vs. k for kNN')\n",
        "plt.legend()\n",
        "plt.show()\n",
        "\n",
        "# Tìm giá trị k tốt nhất\n",
        "best_k = k_values[accuracies.index(max(accuracies))]\n",
        "print(\"Best k value:\", best_k)"
      ],
      "metadata": {
        "id": "13LkkfpS2ZUR",
        "colab": {
          "base_uri": "https://localhost:8080/",
          "height": 489
        },
        "outputId": "dc345db5-0b9b-4df9-949e-8d8c7a3794fe"
      },
      "execution_count": 8,
      "outputs": [
        {
          "output_type": "display_data",
          "data": {
            "text/plain": [
              "<Figure size 640x480 with 1 Axes>"
            ],
            "image/png": "[encoded data removed]"
          },
          "metadata": {}
        },
        {
          "output_type": "stream",
          "name": "stdout",
          "text": [
            "Best k value: 3\n"
          ]
        }
      ]
    },
    {
      "cell_type": "code",
      "source": [
        "# Tạo bảng\n",
        "table = PrettyTable()\n",
        "table.field_names = [\"Algorithm\", \"Accuracy\", \"Precision\", \"Recall\", \"F1 Score\"]\n",
        "\n",
        "# Thêm kết quả của kNN\n",
        "table.add_row([\"kNN (k={})\".format(best_k), accuracies[k_values.index(best_k)],\n",
        "                precisions[k_values.index(best_k)], recalls[k_values.index(best_k)],\n",
        "                f1_scores[k_values.index(best_k)]])\n",
        "\n",
        "# Tạo và huấn luyện mô hình Logistic Regression\n",
        "logistic_model = LogisticRegression(max_iter=1000, random_state=0)\n",
        "logistic_model.fit(X_train, y_train)\n",
        "\n",
        "# Dự đoán nhãn cho dữ liệu kiểm tra\n",
        "y_pred_logistic = logistic_model.predict(X_test)\n",
        "\n",
        "# Tính toán các metric cho Logistic Regression\n",
        "accuracy_logistic = accuracy_score(y_test, y_pred_logistic)\n",
        "precision_logistic = precision_score(y_test, y_pred_logistic, average='weighted')\n",
        "recall_logistic = recall_score(y_test, y_pred_logistic, average='weighted')\n",
        "f1_logistic = f1_score(y_test, y_pred_logistic, average='weighted')\n",
        "\n",
        "# Thêm kết quả của Logistic Regression vào bảng\n",
        "table.add_row([\"Logistic Regression\", accuracy_logistic, precision_logistic,\n",
        "                recall_logistic, f1_logistic])\n",
        "\n",
        "# In bảng\n",
        "print(table)\n"
      ],
      "metadata": {
        "colab": {
          "base_uri": "https://localhost:8080/"
        },
        "id": "JNatmKhKhVH_",
        "outputId": "ada3043b-3fd8-4a49-a7db-637e3f174e35"
      },
      "execution_count": 9,
      "outputs": [
        {
          "output_type": "stream",
          "name": "stdout",
          "text": [
            "+---------------------+----------+-----------+--------+----------+\n",
            "|      Algorithm      | Accuracy | Precision | Recall | F1 Score |\n",
            "+---------------------+----------+-----------+--------+----------+\n",
            "|      kNN (k=3)      |   1.0    |    1.0    |  1.0   |   1.0    |\n",
            "| Logistic Regression |   1.0    |    1.0    |  1.0   |   1.0    |\n",
            "+---------------------+----------+-----------+--------+----------+\n"
          ]
        }
      ]
    },
    {
      "cell_type": "markdown",
      "source": [
        "#Task 4.\n",
        "Similar to Task 3, apply kNN algorithm to **FASHION** dataset which included in datasets of sklearn API.\n",
        "*  4.1.\tPerform kNN algorithm to Iris dataset with k={3, 5, …, 29}. Select the best value of k. Plot the values of **accuracy, precision, recall, f1 measure** metrics with different values of k.\n",
        "*  4.2.\tPlot the values of **accuracy, precision, recall, f1 measure** metrics with different values of k.\n",
        "*  4.3.\tThen compare the obtained results with those using Logistic regression (based on metrics: accuracy, precision, recall, f1 measure).\n"
      ],
      "metadata": {
        "id": "b52OPWPD2afi"
      }
    },
    {
      "cell_type": "code",
      "source": [
        "# 4.1\n",
        "from sklearn.model_selection import train_test_split\n",
        "from sklearn.neighbors import KNeighborsClassifier\n",
        "from sklearn.metrics import accuracy_score, precision_score, recall_score, f1_score\n",
        "import matplotlib.pyplot as plt\n",
        "\n",
        "# Chia tập dữ liệu thành tập huấn luyện và tập kiểm tra\n",
        "X_train, X_test, y_train, y_test = train_test_split(X, y, test_size=0.2, random_state=42)\n",
        "\n",
        "# Thực hiện thuật toán kNN với các giá trị k từ 3 đến 29\n",
        "k_values = list(range(3, 30, 2))\n",
        "accuracies = []\n",
        "precisions = []\n",
        "recalls = []\n",
        "f1_scores = []\n",
        "\n",
        "for k in k_values:\n",
        "    knn_model = KNeighborsClassifier(n_neighbors=k)\n",
        "    knn_model.fit(X_train, y_train)\n",
        "    y_pred = knn_model.predict(X_test)\n",
        "    accuracy = accuracy_score(y_test, y_pred)\n",
        "    precision = precision_score(y_test, y_pred, average='weighted')\n",
        "    recall = recall_score(y_test, y_pred, average='weighted')\n",
        "    f1 = f1_score(y_test, y_pred, average='weighted')\n",
        "    accuracies.append(accuracy)\n",
        "    precisions.append(precision)\n",
        "    recalls.append(recall)\n",
        "    f1_scores.append(f1)\n",
        "\n",
        "# Vẽ đồ thị các metric theo giá trị k\n",
        "plt.plot(k_values, accuracies, label='Accuracy')\n",
        "plt.plot(k_values, precisions, label='Precision')\n",
        "plt.plot(k_values, recalls, label='Recall')\n",
        "plt.plot(k_values, f1_scores, label='F1 Score')\n",
        "plt.xlabel('k')\n",
        "plt.ylabel('Metric Value')\n",
        "plt.title('Performance Metrics vs. k for kNN (Fashion MNIST)')\n",
        "plt.legend()\n",
        "plt.show()"
      ],
      "metadata": {
        "colab": {
          "base_uri": "https://localhost:8080/",
          "height": 472
        },
        "id": "JZwtyjBG0T4C",
        "outputId": "86028110-dfb4-40ea-b1b1-3dd368ba2f27"
      },
      "execution_count": 13,
      "outputs": [
        {
          "output_type": "display_data",
          "data": {
            "text/plain": [
              "<Figure size 640x480 with 1 Axes>"
            ],
            "image/png": "[encoded data removed]"
          },
          "metadata": {}
        }
      ]
    },
    {
      "cell_type": "code",
      "source": [
        "# 4.2\n",
        "# Tìm giá trị k tốt nhất\n",
        "best_k = k_values[accuracies.index(max(accuracies))]\n",
        "print(\"Best k:\", best_k)"
      ],
      "metadata": {
        "colab": {
          "base_uri": "https://localhost:8080/"
        },
        "id": "_p87KvBG0Twb",
        "outputId": "f51ac0f7-8f8f-4288-de6b-574c0befc700"
      },
      "execution_count": 15,
      "outputs": [
        {
          "output_type": "stream",
          "name": "stdout",
          "text": [
            "Best k: 5\n"
          ]
        }
      ]
    },
    {
      "cell_type": "code",
      "source": [
        "# 4.3\n",
        "# Thực hiện Logistic Regression\n",
        "logistic_model = LogisticRegression(max_iter=1500, random_state=0)\n",
        "logistic_model.fit(X_train, y_train)\n",
        "y_pred_logistic = logistic_model.predict(X_test)\n",
        "\n",
        "# Tính toán các metric cho Logistic Regression\n",
        "accuracy_logistic = accuracy_score(y_test, y_pred_logistic)\n",
        "precision_logistic = precision_score(y_test, y_pred_logistic, average='weighted')\n",
        "recall_logistic = recall_score(y_test, y_pred_logistic, average='weighted')\n",
        "f1_logistic = f1_score(y_test, y_pred_logistic, average='weighted')\n",
        "\n",
        "# In kết quả\n",
        "table = PrettyTable()\n",
        "table.field_names = [\"Algorithm\", \"Accuracy\", \"Precision\", \"Recall\", \"F1 Score\"]\n",
        "table.add_row([\"kNN (k={})\".format(best_k), accuracies[k_values.index(best_k)],\n",
        "               precisions[k_values.index(best_k)], recalls[k_values.index(best_k)],\n",
        "               f1_scores[k_values.index(best_k)]])\n",
        "table.add_row([\"Logistic Regression\", accuracy_logistic, precision_logistic,\n",
        "               recall_logistic, f1_logistic])\n",
        "print(table)"
      ],
      "metadata": {
        "colab": {
          "base_uri": "https://localhost:8080/"
        },
        "id": "Quw82gSe0Tjy",
        "outputId": "6c2651ed-af91-453e-daed-096b8a43e8e1"
      },
      "execution_count": 19,
      "outputs": [
        {
          "output_type": "stream",
          "name": "stderr",
          "text": [
            "/usr/local/lib/python3.10/dist-packages/sklearn/linear_model/_logistic.py:458: ConvergenceWarning: lbfgs failed to converge (status=1):\n",
            "STOP: TOTAL NO. of ITERATIONS REACHED LIMIT.\n",
            "\n",
            "Increase the number of iterations (max_iter) or scale the data as shown in:\n",
            "    https://scikit-learn.org/stable/modules/preprocessing.html\n",
            "Please also refer to the documentation for alternative solver options:\n",
            "    https://scikit-learn.org/stable/modules/linear_model.html#logistic-regression\n",
            "  n_iter_i = _check_optimize_result(\n"
          ]
        },
        {
          "output_type": "stream",
          "name": "stdout",
          "text": [
            "+---------------------+--------------------+--------------------+--------------------+--------------------+\n",
            "|      Algorithm      |      Accuracy      |     Precision      |       Recall       |      F1 Score      |\n",
            "+---------------------+--------------------+--------------------+--------------------+--------------------+\n",
            "|      kNN (k=5)      | 0.8567857142857143 | 0.859602313718844  | 0.8567857142857143 | 0.8561956157669488 |\n",
            "| Logistic Regression | 0.8400714285714286 | 0.8388959754939834 | 0.8400714285714286 | 0.8389951066274643 |\n",
            "+---------------------+--------------------+--------------------+--------------------+--------------------+\n"
          ]
        }
      ]
    },
    {
      "cell_type": "markdown",
      "source": [
        "#Task 5.\n",
        "Compare the performance of selected classification algorithms (**Decision Tree, kNN, and Logistic Regression**) to ***spam detection***. The dataset can be accessed from the link: http://archive.ics.uci.edu/ml/datasets/Spambase\n",
        "Attribute Information:\n",
        "The last column of 'spambase.csv denotes whether the e-mail was considered **spam (1) or not (0)**, i.e. unsolicited commercial e-mail. Most of the attributes indicate whether a particular word or character was frequently occuring in the e-mail. The run-length attributes (55-57) measure the length of sequences of consecutive capital letters. For the statistical measures of each attribute, see the end of this file. Here are the definitions of the attributes:\n",
        "*  **48 continuous real [0,100] attributes** of type word_freq_WORD\n",
        "= percentage of words in the e-mail that match WORD, i.e. 100 * (number of times the WORD appears in the e-mail) / total number of words in e-mail. A \"word\" in this case is any string of alphanumeric characters bounded by non-alphanumeric characters or end-of-string. **Example**: word_freq_address: percentage of words in the e-mail that match ADDRESS.\n",
        "*  **6 continuous real [0,100] attributes** of type char_freq_CHAR]\n",
        "= percentage of characters in the e-mail that match CHAR, i.e. 100 * (number of CHAR occurences) / total characters in e-mail\n",
        "*  **1 continuous real [1,...] attribute** of type capital_run_length_average\n",
        "= average length of uninterrupted sequences of capital letters\n",
        "*  **1 continuous integer [1,...] attribute** of type capital_run_length_longest\n",
        "= length of longest uninterrupted sequence of capital letters\n",
        "*  **1 continuous integer [1,...] attribute** of type capital_run_length_total = sum of length of uninterrupted sequences of capital letters = total number of capital letters in the e-mail\n",
        "*  **1 nominal {0,1} class attribute** of type spam = denotes whether the e-mail was considered spam (1) or not (0), i.e. unsolicited commercial e-mail.\n",
        "\n",
        "\n",
        "---\n",
        "\n",
        "\n",
        "In order to compare the performance of selected algorithms, some common metrics including **accuracy, precision, recall, f1 measures** could be used.\n"
      ],
      "metadata": {
        "id": "MVzSk4l505E0"
      }
    },
    {
      "cell_type": "code",
      "source": [
        "print(data.columns)"
      ],
      "metadata": {
        "colab": {
          "base_uri": "https://localhost:8080/"
        },
        "id": "9_sfyll6J_rC",
        "outputId": "e6f292f1-9320-4be5-d54a-53eff6e77159"
      },
      "execution_count": 24,
      "outputs": [
        {
          "output_type": "stream",
          "name": "stdout",
          "text": [
            "Index(['word_freq_make', 'word_freq_address', 'word_freq_all', 'word_freq_3d',\n",
            "       'word_freq_our', 'word_freq_over', 'word_freq_remove',\n",
            "       'word_freq_internet', 'word_freq_order', 'word_freq_mail',\n",
            "       'word_freq_receive', 'word_freq_will', 'word_freq_people',\n",
            "       'word_freq_report', 'word_freq_addresses', 'word_freq_free',\n",
            "       'word_freq_business', 'word_freq_email', 'word_freq_you',\n",
            "       'word_freq_credit', 'word_freq_your', 'word_freq_font', 'word_freq_000',\n",
            "       'word_freq_money', 'word_freq_hp', 'word_freq_hpl', 'word_freq_george',\n",
            "       'word_freq_650', 'word_freq_lab', 'word_freq_labs', 'word_freq_telnet',\n",
            "       'word_freq_857', 'word_freq_data', 'word_freq_415', 'word_freq_85',\n",
            "       'word_freq_technology', 'word_freq_1999', 'word_freq_parts',\n",
            "       'word_freq_pm', 'word_freq_direct', 'word_freq_cs', 'word_freq_meeting',\n",
            "       'word_freq_original', 'word_freq_project', 'word_freq_re',\n",
            "       'word_freq_edu', 'word_freq_table', 'word_freq_conference',\n",
            "       'char_freq_%3B', 'char_freq_%28', 'char_freq_%5B', 'char_freq_%21',\n",
            "       'char_freq_%24', 'char_freq_%23', 'capital_run_length_average',\n",
            "       'capital_run_length_longest', 'capital_run_length_total', 'class'],\n",
            "      dtype='object')\n"
          ]
        }
      ]
    },
    {
      "cell_type": "code",
      "source": [
        "# Đọc dữ liệu từ tập tin 'spambase.csv'\n",
        "data = pd.read_csv(\"spambase.csv\")\n",
        "\n",
        "# Chuẩn bị dữ liệu\n",
        "X = data.drop('class', axis=1)\n",
        "y = data['class']\n",
        "\n",
        "# Chia dữ liệu thành tập huấn luyện và tập kiểm tra\n",
        "X_train, X_test, y_train, y_test = train_test_split(X, y, test_size=0.2, random_state=42)\n",
        "\n",
        "# Huấn luyện các mô hình\n",
        "decision_tree = DecisionTreeClassifier(random_state=0)\n",
        "knn = KNeighborsClassifier()\n",
        "logistic_regression = LogisticRegression(max_iter=2000, random_state=0)\n",
        "\n",
        "decision_tree.fit(X_train, y_train)\n",
        "knn.fit(X_train, y_train)\n",
        "logistic_regression.fit(X_train, y_train)\n",
        "\n",
        "# Đánh giá hiệu suất của các mô hình\n",
        "def evaluate_model(model, X_test, y_test):\n",
        "    y_pred = model.predict(X_test)\n",
        "    accuracy = accuracy_score(y_test, y_pred)\n",
        "    precision = precision_score(y_test, y_pred)\n",
        "    recall = recall_score(y_test, y_pred)\n",
        "    f1 = f1_score(y_test, y_pred)\n",
        "    return accuracy, precision, recall, f1\n",
        "\n",
        "decision_tree_results = evaluate_model(decision_tree, X_test, y_test)\n",
        "knn_results = evaluate_model(knn, X_test, y_test)\n",
        "logistic_regression_results = evaluate_model(logistic_regression, X_test, y_test)\n",
        "\n",
        "# In kết quả sử dụng PrettyTable\n",
        "table = PrettyTable()\n",
        "table.field_names = [\"Algorithm\", \"Accuracy\", \"Precision\", \"Recall\", \"F1 Score\"]\n",
        "table.add_row([\"Decision Tree\", *decision_tree_results])\n",
        "table.add_row([\"kNN\", *knn_results])\n",
        "table.add_row([\"Logistic Regression\", *logistic_regression_results])\n",
        "print(table)"
      ],
      "metadata": {
        "id": "W_1v_ivR2f6D",
        "colab": {
          "base_uri": "https://localhost:8080/"
        },
        "outputId": "a0187f31-c572-46ea-add7-973a8972873a"
      },
      "execution_count": 25,
      "outputs": [
        {
          "output_type": "stream",
          "name": "stdout",
          "text": [
            "+---------------------+--------------------+--------------------+--------------------+--------------------+\n",
            "|      Algorithm      |      Accuracy      |     Precision      |       Recall       |      F1 Score      |\n",
            "+---------------------+--------------------+--------------------+--------------------+--------------------+\n",
            "|    Decision Tree    | 0.9142236699239956 | 0.9146666666666666 | 0.8794871794871795 | 0.8967320261437908 |\n",
            "|         kNN         | 0.7904451682953312 | 0.7743732590529248 | 0.7128205128205128 | 0.7423230974632844 |\n",
            "| Logistic Regression | 0.9218241042345277 | 0.9297297297297298 | 0.882051282051282  | 0.9052631578947369 |\n",
            "+---------------------+--------------------+--------------------+--------------------+--------------------+\n"
          ]
        }
      ]
    },
    {
      "cell_type": "code",
      "source": [
        "from prettytable import PrettyTable\n",
        "\n",
        "# These 3 are the columns of the tables\n",
        "t = PrettyTable(['Subject Code', 'Subject', 'Marks'])\n",
        "\n",
        "# To insert rows:\n",
        "t.add_row(['K01', 'Maths', 95])\n",
        "t.add_row(['K04', 'Physics', 89])\n",
        "t.add_row(['K03', 'Chemistry', 92])\n",
        "t.add_row(['K08', 'English', 91])\n",
        "t.add_row(['K29', 'Computer Science', 99])\n",
        "t.add_row(['K06', 'Social Science', 86])\n",
        "\n",
        "print(t)"
      ],
      "metadata": {
        "id": "ldcYhaaOPRDg",
        "outputId": "aaaba8dd-0c04-4f3b-c38b-6a993216fdbf",
        "colab": {
          "base_uri": "https://localhost:8080/"
        }
      },
      "execution_count": null,
      "outputs": [
        {
          "output_type": "stream",
          "name": "stdout",
          "text": [
            "+--------------+------------------+-------+\n",
            "| Subject Code |     Subject      | Marks |\n",
            "+--------------+------------------+-------+\n",
            "|     K01      |      Maths       |   95  |\n",
            "|     K04      |     Physics      |   89  |\n",
            "|     K03      |    Chemistry     |   92  |\n",
            "|     K08      |     English      |   91  |\n",
            "|     K29      | Computer Science |   99  |\n",
            "|     K06      |  Social Science  |   86  |\n",
            "+--------------+------------------+-------+\n"
          ]
        }
      ]
    },
    {
      "cell_type": "markdown",
      "source": [
        "#Finally,\n",
        "Save a copy in your Github. Remember renaming the notebook."
      ],
      "metadata": {
        "id": "Ok7RGkea_b7n"
      }
    }
  ]
}