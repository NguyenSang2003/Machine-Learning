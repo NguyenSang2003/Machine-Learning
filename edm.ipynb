{
  "nbformat": 4,
  "nbformat_minor": 0,
  "metadata": {
    "colab": {
      "provenance": [],
      "include_colab_link": true
    },
    "kernelspec": {
      "name": "python3",
      "display_name": "Python 3"
    },
    "language_info": {
      "name": "python"
    }
  },
  "cells": [
    {
      "cell_type": "markdown",
      "metadata": {
        "id": "view-in-github",
        "colab_type": "text"
      },
      "source": [
        "<a href=\"https://colab.research.google.com/github/NguyenSang2003/Machine-Learning/blob/main/edm.ipynb\" target=\"_parent\"><img src=\"https://colab.research.google.com/assets/colab-badge.svg\" alt=\"Open In Colab\"/></a>"
      ]
    },
    {
      "cell_type": "code",
      "source": [
        "import pandas as pd\n",
        "import numpy as np\n",
        "from sklearn.model_selection import train_test_split\n",
        "from sklearn.linear_model import LinearRegression\n",
        "from sklearn.ensemble import RandomForestRegressor\n",
        "from sklearn.metrics import mean_squared_error, r2_score, accuracy_score\n",
        "from sklearn.preprocessing import LabelEncoder\n",
        "from sklearn.linear_model import LogisticRegression\n",
        "from sklearn.preprocessing import StandardScaler, LabelEncoder\n",
        "from sklearn.metrics import accuracy_score, precision_score, recall_score, f1_score\n",
        "from prettytable import PrettyTable\n",
        "from sklearn.ensemble import RandomForestClassifier\n",
        "import matplotlib.pyplot as plt\n",
        "from google.colab import drive\n",
        "from sklearn.model_selection import GridSearchCV"
      ],
      "metadata": {
        "id": "_3RCrlrvLIT8"
      },
      "execution_count": null,
      "outputs": []
    },
    {
      "cell_type": "code",
      "source": [
        "# Tải dataset EDM lên\n",
        "from google.colab import drive\n",
        "drive.mount('/content/gdrive')\n",
        "%cd '/content/gdrive/MyDrive/Data_Labs_ML/ProjectML/Project/Dataset_EDM'"
      ],
      "metadata": {
        "id": "wiO3D8QLLDHD",
        "colab": {
          "base_uri": "https://localhost:8080/"
        },
        "outputId": "f783cfd9-f2a6-4c39-97bf-ad4deb62efac"
      },
      "execution_count": 31,
      "outputs": [
        {
          "output_type": "stream",
          "name": "stdout",
          "text": [
            "Drive already mounted at /content/gdrive; to attempt to forcibly remount, call drive.mount(\"/content/gdrive\", force_remount=True).\n",
            "/content/gdrive/.shortcut-targets-by-id/1UgMwDIEZn9bzdX3kcIvEYUOzedz3KWS9/Project/Dataset_EDM\n"
          ]
        }
      ]
    },
    {
      "cell_type": "code",
      "source": [
        "# Điều chỉnh tỷ lệ lấy mẫu tại đây\n",
        "sample_fraction = 0.8  # Thay đổi giá trị này để lấy mẫu với tỷ lệ khác"
      ],
      "metadata": {
        "id": "kgf5xGfciTjV"
      },
      "execution_count": 32,
      "outputs": []
    },
    {
      "cell_type": "code",
      "source": [
        "# Đọc dữ liệu từ cả hai tệp CSV\n",
        "train_data = pd.read_csv(\"train_data_final.csv\")\n",
        "test_data = pd.read_csv(\"test_data_final.csv\")\n",
        "\n",
        "# Giảm kích thước tập dữ liệu\n",
        "train_data_sampled = train_data.sample(frac = sample_fraction, random_state=42)\n",
        "test_data_sampled = test_data.sample(frac = sample_fraction, random_state=42)\n",
        "\n",
        "# Tách dữ liệu thành các đặc trưng (features) và nhãn (labels)\n",
        "X_train = train_data_sampled.drop('label', axis=1)\n",
        "y_train = train_data_sampled['label']\n",
        "X_test = test_data_sampled.drop('label', axis=1)\n",
        "y_test = test_data_sampled['label']\n",
        "\n",
        "# Mã hóa nhãn thành các giá trị số\n",
        "label_encoder = LabelEncoder()\n",
        "y_train_encoded = label_encoder.fit_transform(y_train)\n",
        "y_test_encoded = label_encoder.transform(y_test)\n",
        "\n",
        "train_data_sampled = train_data.sample(frac=sample_fraction, random_state=42)\n",
        "test_data_sampled = test_data.sample(frac=sample_fraction, random_state=42)\n",
        "\n",
        "# Chuẩn hóa dữ liệu\n",
        "scaler = StandardScaler()\n",
        "X_train = scaler.fit_transform(X_train)\n",
        "X_test = scaler.transform(X_test)"
      ],
      "metadata": {
        "id": "25PoK-4PdOoe"
      },
      "execution_count": 46,
      "outputs": []
    },
    {
      "cell_type": "code",
      "source": [
        "# Linear Regression\n",
        "linear_regressor = LinearRegression()\n",
        "linear_regressor.fit(X_train, y_train_encoded)\n",
        "y_pred_lr = linear_regressor.predict(X_test)\n",
        "y_pred_lr = y_pred_lr.round().astype(int)  # Làm tròn dự đoán thành các giá trị nhãn\n",
        "\n",
        "\n",
        "# Tính toán các chỉ số đánh giá cho Linear Regression\n",
        "metrics = {\n",
        "    'Accuracy': accuracy_score,\n",
        "    'Precision': lambda y_true, y_pred: precision_score(y_true, y_pred, average='macro'),\n",
        "    'Recall': lambda y_true, y_pred: recall_score(y_true, y_pred, average='macro'),\n",
        "    'F1 Score': lambda y_true, y_pred: f1_score(y_true, y_pred, average='macro')\n",
        "}\n",
        "\n",
        "results_lr = []\n",
        "\n",
        "for name, metric in metrics.items():\n",
        "    results_lr.append(metric(y_test_encoded, y_pred_lr))\n",
        "\n",
        "# Tạo bảng bằng PrettyTable cho Linear Regression\n",
        "table_lr = PrettyTable()\n",
        "table_lr.field_names = [\"Metric\", \"Linear Regression\"]\n",
        "\n",
        "for name, value in zip(metrics.keys(), results_lr):\n",
        "    table_lr.add_row([name, value])\n",
        "\n",
        "print(\"Linear Regression Results\")\n",
        "print(table_lr)"
      ],
      "metadata": {
        "colab": {
          "base_uri": "https://localhost:8080/"
        },
        "id": "BflvaYyyD9Bp",
        "outputId": "68433268-26c6-409a-b42d-f8cbb4ce84cd"
      },
      "execution_count": 37,
      "outputs": [
        {
          "output_type": "stream",
          "name": "stdout",
          "text": [
            "Linear Regression Results\n",
            "+-----------+---------------------+\n",
            "|   Metric  |  Linear Regression  |\n",
            "+-----------+---------------------+\n",
            "|  Accuracy |      0.0921875      |\n",
            "| Precision | 0.10182310485482639 |\n",
            "|   Recall  | 0.06790221258516432 |\n",
            "|  F1 Score | 0.05789348824628071 |\n",
            "+-----------+---------------------+\n"
          ]
        },
        {
          "output_type": "stream",
          "name": "stderr",
          "text": [
            "/usr/local/lib/python3.10/dist-packages/sklearn/metrics/_classification.py:1344: UndefinedMetricWarning: Recall is ill-defined and being set to 0.0 in labels with no true samples. Use `zero_division` parameter to control this behavior.\n",
            "  _warn_prf(average, modifier, msg_start, len(result))\n"
          ]
        }
      ]
    },
    {
      "cell_type": "code",
      "source": [
        "# Random Forest\n",
        "random_forest_regressor = RandomForestRegressor(n_estimators=100, random_state=42)\n",
        "random_forest_regressor.fit(X_train, y_train_encoded)\n",
        "y_pred_rf = random_forest_regressor.predict(X_test)\n",
        "y_pred_rf = y_pred_rf.round().astype(int)  # Làm tròn dự đoán thành các giá trị nhãn\n",
        "\n",
        "# Tính toán các chỉ số đánh giá cho Random Forest\n",
        "results_rf = []\n",
        "\n",
        "for name, metric in metrics.items():\n",
        "    results_rf.append(metric(y_test_encoded, y_pred_rf))\n",
        "\n",
        "# Tạo bảng bằng PrettyTable cho Random Forest\n",
        "table_rf = PrettyTable()\n",
        "table_rf.field_names = [\"Metric\", \"Random Forest\"]\n",
        "\n",
        "for name, value in zip(metrics.keys(), results_rf):\n",
        "    table_rf.add_row([name, value])\n",
        "\n",
        "print(\"Random Forest Results\")\n",
        "print(table_rf)"
      ],
      "metadata": {
        "colab": {
          "base_uri": "https://localhost:8080/"
        },
        "id": "_OHz_K7WEKZ_",
        "outputId": "81ad3e48-9d3f-480c-a88f-1f08ce1355db"
      },
      "execution_count": 38,
      "outputs": [
        {
          "output_type": "stream",
          "name": "stdout",
          "text": [
            "Random Forest Results\n",
            "+-----------+---------------------+\n",
            "|   Metric  |    Random Forest    |\n",
            "+-----------+---------------------+\n",
            "|  Accuracy |      0.21578125     |\n",
            "| Precision | 0.26307558828239935 |\n",
            "|   Recall  | 0.21690536455982673 |\n",
            "|  F1 Score | 0.19623893740119702 |\n",
            "+-----------+---------------------+\n"
          ]
        },
        {
          "output_type": "stream",
          "name": "stderr",
          "text": [
            "/usr/local/lib/python3.10/dist-packages/sklearn/metrics/_classification.py:1344: UndefinedMetricWarning: Precision is ill-defined and being set to 0.0 in labels with no predicted samples. Use `zero_division` parameter to control this behavior.\n",
            "  _warn_prf(average, modifier, msg_start, len(result))\n"
          ]
        }
      ]
    },
    {
      "cell_type": "code",
      "source": [
        "# Tính toán các chỉ số đánh giá cho Random Forest\n",
        "results_rf = {name: metric(y_test_encoded, y_pred_rf) for name, metric in metrics.items()}\n",
        "\n",
        "# Tính toán các chỉ số đánh giá cho Linear Regression\n",
        "results_lr = {name: metric(y_test_encoded, y_pred_lr) for name, metric in metrics.items()}\n",
        "\n",
        "# Vẽ biểu đồ\n",
        "metrics_names = list(metrics.keys())\n",
        "lr_scores = [results_lr[name] for name in metrics_names]\n",
        "rf_scores = [results_rf[name] for name in metrics_names]\n",
        "\n",
        "x = np.arange(len(metrics_names))  # vị trí các nhãn\n",
        "width = 0.35  # độ rộng của các thanh\n",
        "\n",
        "fig, ax = plt.subplots(figsize=(10, 6))\n",
        "rects1 = ax.bar(x - width/2, lr_scores, width, label='Linear Regression')\n",
        "rects2 = ax.bar(x + width/2, rf_scores, width, label='Random Forest')\n",
        "\n",
        "# Thêm nhãn, tiêu đề và tuỳ chỉnh\n",
        "ax.set_xlabel('Metrics')\n",
        "ax.set_ylabel('Scores')\n",
        "ax.set_title('Comparison of Linear Regression and Random Forest')\n",
        "ax.set_xticks(x)\n",
        "ax.set_xticklabels(metrics_names)\n",
        "ax.legend()\n",
        "\n",
        "# Hiển thị giá trị trên các thanh\n",
        "def autolabel(rects):\n",
        "    \"\"\"Hàm thêm nhãn vào các thanh\"\"\"\n",
        "    for rect in rects:\n",
        "        height = rect.get_height()\n",
        "        ax.annotate('{}'.format(round(height, 2)),\n",
        "                    xy=(rect.get_x() + rect.get_width() / 2, height),\n",
        "                    xytext=(0, 3),\n",
        "                    textcoords=\"offset points\",\n",
        "                    ha='center', va='bottom')\n",
        "\n",
        "autolabel(rects1)\n",
        "autolabel(rects2)\n",
        "\n",
        "fig.tight_layout()\n",
        "\n",
        "plt.show()"
      ],
      "metadata": {
        "colab": {
          "base_uri": "https://localhost:8080/",
          "height": 696
        },
        "id": "Ewf3EWXPOARw",
        "outputId": "83a3e26e-63cc-4a83-db6e-d479f19f5334"
      },
      "execution_count": 45,
      "outputs": [
        {
          "output_type": "stream",
          "name": "stderr",
          "text": [
            "/usr/local/lib/python3.10/dist-packages/sklearn/metrics/_classification.py:1344: UndefinedMetricWarning: Precision is ill-defined and being set to 0.0 in labels with no predicted samples. Use `zero_division` parameter to control this behavior.\n",
            "  _warn_prf(average, modifier, msg_start, len(result))\n",
            "/usr/local/lib/python3.10/dist-packages/sklearn/metrics/_classification.py:1344: UndefinedMetricWarning: Recall is ill-defined and being set to 0.0 in labels with no true samples. Use `zero_division` parameter to control this behavior.\n",
            "  _warn_prf(average, modifier, msg_start, len(result))\n"
          ]
        },
        {
          "output_type": "display_data",
          "data": {
            "text/plain": [
              "<Figure size 1000x600 with 1 Axes>"
            ],
            "image/png": "[encoded data removed]"
          },
          "metadata": {}
        }
      ]
    },
    {
      "cell_type": "code",
      "source": [
        "param_grid = {\n",
        "    'n_estimators': [50, 100, 200],\n",
        "    'max_depth': [None, 10, 20, 30],\n",
        "    'min_samples_split': [2, 5, 10],\n",
        "    'min_samples_leaf': [1, 2, 4]\n",
        "}\n",
        "\n",
        "grid_search = GridSearchCV(estimator=RandomForestRegressor(random_state=42),\n",
        "                           param_grid=param_grid,\n",
        "                           cv=5,\n",
        "                           scoring='accuracy')\n",
        "grid_search.fit(X_train, y_train_encoded)\n",
        "print(\"Best parameters:\", grid_search.best_params_)"
      ],
      "metadata": {
        "colab": {
          "base_uri": "https://localhost:8080/"
        },
        "id": "KPpiw4j2SP3W",
        "outputId": "377fec67-d608-4b08-d0a5-ca90cbd120be"
      },
      "execution_count": null,
      "outputs": [
        {
          "output_type": "stream",
          "name": "stderr",
          "text": [
            "/usr/local/lib/python3.10/dist-packages/sklearn/model_selection/_validation.py:778: UserWarning: Scoring failed. The score on this train-test partition for these parameters will be set to nan. Details: \n",
            "Traceback (most recent call last):\n",
            "  File \"/usr/local/lib/python3.10/dist-packages/sklearn/model_selection/_validation.py\", line 767, in _score\n",
            "    scores = scorer(estimator, X_test, y_test)\n",
            "  File \"/usr/local/lib/python3.10/dist-packages/sklearn/metrics/_scorer.py\", line 234, in __call__\n",
            "    return self._score(\n",
            "  File \"/usr/local/lib/python3.10/dist-packages/sklearn/metrics/_scorer.py\", line 282, in _score\n",
            "    return self._sign * self._score_func(y_true, y_pred, **self._kwargs)\n",
            "  File \"/usr/local/lib/python3.10/dist-packages/sklearn/utils/_param_validation.py\", line 192, in wrapper\n",
            "    return func(*args, **kwargs)\n",
            "  File \"/usr/local/lib/python3.10/dist-packages/sklearn/metrics/_classification.py\", line 221, in accuracy_score\n",
            "    y_type, y_true, y_pred = _check_targets(y_true, y_pred)\n",
            "  File \"/usr/local/lib/python3.10/dist-packages/sklearn/metrics/_classification.py\", line 95, in _check_targets\n",
            "    raise ValueError(\n",
            "ValueError: Classification metrics can't handle a mix of multiclass and continuous targets\n",
            "\n",
            "  warnings.warn(\n"
          ]
        }
      ]
    }
  ]
}